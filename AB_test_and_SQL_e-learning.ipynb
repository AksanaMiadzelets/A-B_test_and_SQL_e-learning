{
 "cells": [
  {
   "cell_type": "markdown",
   "metadata": {},
   "source": [
    "# Проект: вариант 2"
   ]
  },
  {
   "cell_type": "markdown",
   "metadata": {},
   "source": [
    "## Задание 1. A/B–тестирование"
   ]
  },
  {
   "cell_type": "markdown",
   "metadata": {},
   "source": [
    "### 1.1 Условие\n",
    "\n",
    "Одной из основных задач аналитика в нашей команде является корректное проведение экспериментов. Для этого мы применяем метод A/B–тестирования. В ходе тестирования одной гипотезы целевой группе была предложена новая механика оплаты услуг на сайте, у контрольной группы оставалась базовая механика. В качестве задания Вам необходимо проанализировать итоги эксперимента и сделать вывод, стоит ли запускать новую механику оплаты на всех пользователей.\n",
    "\n",
    "### 1.2 Входные данные\n",
    "\n",
    "В качестве входных данных Вы имеете 4 csv-файла:\n",
    "\n",
    "- groups.csv - файл с информацией о принадлежности пользователя к контрольной или экспериментальной группе (А – контроль, B – целевая группа) \n",
    "\n",
    "- groups_add.csv - дополнительный файл с пользователями, который вам прислали спустя 2 дня после передачи данных\n",
    "\n",
    "- active_studs.csv - файл с информацией о пользователях, которые зашли на платформу в дни проведения эксперимента. \n",
    "\n",
    "- checks.csv - файл с информацией об оплатах пользователей в дни проведения эксперимента. \n",
    "\n",
    "### 1.3 Вопросы\n",
    "\n",
    "Предлагаем Вам ответить на следующие вопросы:\n",
    "\n",
    "- На какие метрики Вы смотрите в ходе анализа и почему?\n",
    "- Имеются ли различия в показателях и с чем они могут быть связаны?\n",
    "- Являются ли эти различия статистически значимыми?\n",
    "- Стоит ли запускать новую механику на всех пользователей?\n",
    "\n",
    "Данный список вопросов не является обязательным, и Вы можете при своём ответе опираться на собственный план.\n",
    "\n",
    "### 1.4 Требования к ответу\n",
    "\n",
    "- При выполнении тестового задания необходимо использовать язык программирования Python. \n",
    "- В файле обязательно должны быть комментарии к тем действиям, которые Вы выполняете с данными. \n",
    "Файл должен представлять собой законченный отчёт с выводами, сделанными в ходе исследования.\n",
    "\n"
   ]
  },
  {
   "cell_type": "code",
   "execution_count": 12,
   "metadata": {},
   "outputs": [],
   "source": [
    "import pandas as pd\n",
    "import numpy as np\n",
    "import seaborn as sns\n",
    "import matplotlib.pyplot as plt\n",
    "%matplotlib inline\n",
    "\n",
    "import scipy.stats as ss\n",
    "\n",
    "import requests\n",
    "import urllib\n",
    "import json\n",
    "from urllib.parse import urlencode\n",
    "\n",
    "from scipy.stats import ttest_ind\n",
    "import pingouin as pg\n",
    "from scipy.stats import bootstrap"
   ]
  },
  {
   "cell_type": "markdown",
   "metadata": {},
   "source": [
    "## Разведывательный анализ данных"
   ]
  },
  {
   "cell_type": "code",
   "execution_count": 84,
   "metadata": {},
   "outputs": [],
   "source": [
    "#функция загрузки данных с Яндекс Диск через API \n",
    "def get_data(public_key):\n",
    "    base_url = 'https://cloud-api.yandex.net/v1/disk/public/resources/download?'\n",
    "    \n",
    "    # получаем url \n",
    "    final_url = base_url + urlencode(dict(public_key=public_key))\n",
    "    response = requests.get(final_url)\n",
    "    download_url = response.json()['href']\n",
    "\n",
    "    download_response = requests.get(download_url)\n",
    "    \n",
    "    return download_url"
   ]
  },
  {
   "cell_type": "markdown",
   "metadata": {},
   "source": [
    "### 1 . Импортируем данные groups.csv"
   ]
  },
  {
   "cell_type": "code",
   "execution_count": 14,
   "metadata": {},
   "outputs": [],
   "source": [
    "groups = pd.read_csv(get_data('https://disk.yandex.ru/d/UhyYx41rTt3clQ'), sep = ';')\\\n",
    "                .rename(columns = {'id': 'student_id'})                     #переименовали столбец id на student_id "
   ]
  },
  {
   "cell_type": "code",
   "execution_count": 15,
   "metadata": {},
   "outputs": [],
   "source": [
    "# А – контроль, B – целевая группа"
   ]
  },
  {
   "cell_type": "code",
   "execution_count": 16,
   "metadata": {},
   "outputs": [
    {
     "data": {
      "text/html": [
       "<div>\n",
       "<style scoped>\n",
       "    .dataframe tbody tr th:only-of-type {\n",
       "        vertical-align: middle;\n",
       "    }\n",
       "\n",
       "    .dataframe tbody tr th {\n",
       "        vertical-align: top;\n",
       "    }\n",
       "\n",
       "    .dataframe thead th {\n",
       "        text-align: right;\n",
       "    }\n",
       "</style>\n",
       "<table border=\"1\" class=\"dataframe\">\n",
       "  <thead>\n",
       "    <tr style=\"text-align: right;\">\n",
       "      <th></th>\n",
       "      <th>student_id</th>\n",
       "      <th>grp</th>\n",
       "    </tr>\n",
       "  </thead>\n",
       "  <tbody>\n",
       "    <tr>\n",
       "      <th>0</th>\n",
       "      <td>1489</td>\n",
       "      <td>B</td>\n",
       "    </tr>\n",
       "    <tr>\n",
       "      <th>1</th>\n",
       "      <td>1627</td>\n",
       "      <td>A</td>\n",
       "    </tr>\n",
       "    <tr>\n",
       "      <th>2</th>\n",
       "      <td>1768</td>\n",
       "      <td>B</td>\n",
       "    </tr>\n",
       "    <tr>\n",
       "      <th>3</th>\n",
       "      <td>1783</td>\n",
       "      <td>B</td>\n",
       "    </tr>\n",
       "    <tr>\n",
       "      <th>4</th>\n",
       "      <td>1794</td>\n",
       "      <td>A</td>\n",
       "    </tr>\n",
       "  </tbody>\n",
       "</table>\n",
       "</div>"
      ],
      "text/plain": [
       "   student_id grp\n",
       "0        1489   B\n",
       "1        1627   A\n",
       "2        1768   B\n",
       "3        1783   B\n",
       "4        1794   A"
      ]
     },
     "execution_count": 16,
     "metadata": {},
     "output_type": "execute_result"
    }
   ],
   "source": [
    "groups.head()"
   ]
  },
  {
   "cell_type": "code",
   "execution_count": 17,
   "metadata": {},
   "outputs": [
    {
     "data": {
      "text/plain": [
       "74484"
      ]
     },
     "execution_count": 17,
     "metadata": {},
     "output_type": "execute_result"
    }
   ],
   "source": [
    "#число строк\n",
    "groups.shape[0]"
   ]
  },
  {
   "cell_type": "code",
   "execution_count": 18,
   "metadata": {},
   "outputs": [
    {
     "data": {
      "text/plain": [
       "student_id     int64\n",
       "grp           object\n",
       "dtype: object"
      ]
     },
     "execution_count": 18,
     "metadata": {},
     "output_type": "execute_result"
    }
   ],
   "source": [
    "# типы данных\n",
    "groups.dtypes"
   ]
  },
  {
   "cell_type": "code",
   "execution_count": 19,
   "metadata": {},
   "outputs": [
    {
     "data": {
      "text/plain": [
       "student_id    0\n",
       "grp           0\n",
       "dtype: int64"
      ]
     },
     "execution_count": 19,
     "metadata": {},
     "output_type": "execute_result"
    }
   ],
   "source": [
    "#проверяем пустые значения\n",
    "groups.isna().sum()"
   ]
  },
  {
   "cell_type": "code",
   "execution_count": 21,
   "metadata": {},
   "outputs": [
    {
     "data": {
      "text/plain": [
       "student_id    74484\n",
       "grp               2\n",
       "dtype: int64"
      ]
     },
     "execution_count": 21,
     "metadata": {},
     "output_type": "execute_result"
    }
   ],
   "source": [
    "#уникальные значения\n",
    "groups.nunique()"
   ]
  },
  {
   "cell_type": "markdown",
   "metadata": {},
   "source": [
    "### 2 . Импортируем данные active_studs.csv"
   ]
  },
  {
   "cell_type": "code",
   "execution_count": 22,
   "metadata": {},
   "outputs": [],
   "source": [
    "active_studs = pd.read_csv(get_data('https://disk.yandex.ru/d/Tbs44Bm6H_FwFQ'))"
   ]
  },
  {
   "cell_type": "code",
   "execution_count": 23,
   "metadata": {},
   "outputs": [
    {
     "data": {
      "text/html": [
       "<div>\n",
       "<style scoped>\n",
       "    .dataframe tbody tr th:only-of-type {\n",
       "        vertical-align: middle;\n",
       "    }\n",
       "\n",
       "    .dataframe tbody tr th {\n",
       "        vertical-align: top;\n",
       "    }\n",
       "\n",
       "    .dataframe thead th {\n",
       "        text-align: right;\n",
       "    }\n",
       "</style>\n",
       "<table border=\"1\" class=\"dataframe\">\n",
       "  <thead>\n",
       "    <tr style=\"text-align: right;\">\n",
       "      <th></th>\n",
       "      <th>student_id</th>\n",
       "    </tr>\n",
       "  </thead>\n",
       "  <tbody>\n",
       "    <tr>\n",
       "      <th>0</th>\n",
       "      <td>581585</td>\n",
       "    </tr>\n",
       "    <tr>\n",
       "      <th>1</th>\n",
       "      <td>5723133</td>\n",
       "    </tr>\n",
       "    <tr>\n",
       "      <th>2</th>\n",
       "      <td>3276743</td>\n",
       "    </tr>\n",
       "    <tr>\n",
       "      <th>3</th>\n",
       "      <td>4238589</td>\n",
       "    </tr>\n",
       "    <tr>\n",
       "      <th>4</th>\n",
       "      <td>4475369</td>\n",
       "    </tr>\n",
       "  </tbody>\n",
       "</table>\n",
       "</div>"
      ],
      "text/plain": [
       "   student_id\n",
       "0      581585\n",
       "1     5723133\n",
       "2     3276743\n",
       "3     4238589\n",
       "4     4475369"
      ]
     },
     "execution_count": 23,
     "metadata": {},
     "output_type": "execute_result"
    }
   ],
   "source": [
    "active_studs.head()"
   ]
  },
  {
   "cell_type": "code",
   "execution_count": 24,
   "metadata": {},
   "outputs": [
    {
     "data": {
      "text/plain": [
       "8341"
      ]
     },
     "execution_count": 24,
     "metadata": {},
     "output_type": "execute_result"
    }
   ],
   "source": [
    "#число строк\n",
    "active_studs.shape[0]"
   ]
  },
  {
   "cell_type": "code",
   "execution_count": 25,
   "metadata": {},
   "outputs": [
    {
     "data": {
      "text/plain": [
       "student_id    int64\n",
       "dtype: object"
      ]
     },
     "execution_count": 25,
     "metadata": {},
     "output_type": "execute_result"
    }
   ],
   "source": [
    "# тип данных\n",
    "active_studs.dtypes"
   ]
  },
  {
   "cell_type": "code",
   "execution_count": 26,
   "metadata": {},
   "outputs": [
    {
     "data": {
      "text/plain": [
       "student_id    0\n",
       "dtype: int64"
      ]
     },
     "execution_count": 26,
     "metadata": {},
     "output_type": "execute_result"
    }
   ],
   "source": [
    "#проверяем пустые значения\n",
    "active_studs.isna().sum()"
   ]
  },
  {
   "cell_type": "code",
   "execution_count": 27,
   "metadata": {},
   "outputs": [
    {
     "data": {
      "text/plain": [
       "student_id    8341\n",
       "dtype: int64"
      ]
     },
     "execution_count": 27,
     "metadata": {},
     "output_type": "execute_result"
    }
   ],
   "source": [
    "#уникальные значения\n",
    "active_studs.nunique()"
   ]
  },
  {
   "cell_type": "markdown",
   "metadata": {},
   "source": [
    "### 3 . Импортируем данные checks.csv"
   ]
  },
  {
   "cell_type": "code",
   "execution_count": 28,
   "metadata": {},
   "outputs": [],
   "source": [
    "checks = pd.read_csv(get_data('https://disk.yandex.ru/d/pH1q-VqcxXjsVA'), sep = ';')"
   ]
  },
  {
   "cell_type": "code",
   "execution_count": 29,
   "metadata": {},
   "outputs": [
    {
     "data": {
      "text/html": [
       "<div>\n",
       "<style scoped>\n",
       "    .dataframe tbody tr th:only-of-type {\n",
       "        vertical-align: middle;\n",
       "    }\n",
       "\n",
       "    .dataframe tbody tr th {\n",
       "        vertical-align: top;\n",
       "    }\n",
       "\n",
       "    .dataframe thead th {\n",
       "        text-align: right;\n",
       "    }\n",
       "</style>\n",
       "<table border=\"1\" class=\"dataframe\">\n",
       "  <thead>\n",
       "    <tr style=\"text-align: right;\">\n",
       "      <th></th>\n",
       "      <th>student_id</th>\n",
       "      <th>rev</th>\n",
       "    </tr>\n",
       "  </thead>\n",
       "  <tbody>\n",
       "    <tr>\n",
       "      <th>0</th>\n",
       "      <td>1627</td>\n",
       "      <td>990.0</td>\n",
       "    </tr>\n",
       "    <tr>\n",
       "      <th>1</th>\n",
       "      <td>3185</td>\n",
       "      <td>690.0</td>\n",
       "    </tr>\n",
       "    <tr>\n",
       "      <th>2</th>\n",
       "      <td>25973</td>\n",
       "      <td>690.0</td>\n",
       "    </tr>\n",
       "    <tr>\n",
       "      <th>3</th>\n",
       "      <td>26280</td>\n",
       "      <td>690.0</td>\n",
       "    </tr>\n",
       "    <tr>\n",
       "      <th>4</th>\n",
       "      <td>100300</td>\n",
       "      <td>990.0</td>\n",
       "    </tr>\n",
       "  </tbody>\n",
       "</table>\n",
       "</div>"
      ],
      "text/plain": [
       "   student_id    rev\n",
       "0        1627  990.0\n",
       "1        3185  690.0\n",
       "2       25973  690.0\n",
       "3       26280  690.0\n",
       "4      100300  990.0"
      ]
     },
     "execution_count": 29,
     "metadata": {},
     "output_type": "execute_result"
    }
   ],
   "source": [
    "#число строк\n",
    "checks.head()"
   ]
  },
  {
   "cell_type": "code",
   "execution_count": 30,
   "metadata": {},
   "outputs": [
    {
     "data": {
      "text/plain": [
       "student_id      int64\n",
       "rev           float64\n",
       "dtype: object"
      ]
     },
     "execution_count": 30,
     "metadata": {},
     "output_type": "execute_result"
    }
   ],
   "source": [
    "# типы данных\n",
    "checks.dtypes"
   ]
  },
  {
   "cell_type": "code",
   "execution_count": 31,
   "metadata": {},
   "outputs": [
    {
     "data": {
      "text/plain": [
       "541"
      ]
     },
     "execution_count": 31,
     "metadata": {},
     "output_type": "execute_result"
    }
   ],
   "source": [
    "checks.shape[0]"
   ]
  },
  {
   "cell_type": "code",
   "execution_count": 32,
   "metadata": {},
   "outputs": [
    {
     "data": {
      "text/plain": [
       "student_id    0\n",
       "rev           0\n",
       "dtype: int64"
      ]
     },
     "execution_count": 32,
     "metadata": {},
     "output_type": "execute_result"
    }
   ],
   "source": [
    "#проверяем пустые значения\n",
    "checks.isna().sum()"
   ]
  },
  {
   "cell_type": "code",
   "execution_count": 33,
   "metadata": {},
   "outputs": [
    {
     "data": {
      "text/plain": [
       "student_id    541\n",
       "rev            39\n",
       "dtype: int64"
      ]
     },
     "execution_count": 33,
     "metadata": {},
     "output_type": "execute_result"
    }
   ],
   "source": [
    "#уникальные значения, дубликатов student_id нет\n",
    "checks.nunique()"
   ]
  },
  {
   "cell_type": "markdown",
   "metadata": {},
   "source": [
    "### 4 . Импортируем данные groups_add.csv"
   ]
  },
  {
   "cell_type": "code",
   "execution_count": 34,
   "metadata": {},
   "outputs": [],
   "source": [
    "groups_add = pd.read_csv(get_data('https://disk.yandex.ru/d/5Kxrz02m3IBUwQ'), sep = ',').rename(columns = {'id': 'student_id'}) #переименовали столбец id на student_id "
   ]
  },
  {
   "cell_type": "code",
   "execution_count": 35,
   "metadata": {},
   "outputs": [
    {
     "data": {
      "text/html": [
       "<div>\n",
       "<style scoped>\n",
       "    .dataframe tbody tr th:only-of-type {\n",
       "        vertical-align: middle;\n",
       "    }\n",
       "\n",
       "    .dataframe tbody tr th {\n",
       "        vertical-align: top;\n",
       "    }\n",
       "\n",
       "    .dataframe thead th {\n",
       "        text-align: right;\n",
       "    }\n",
       "</style>\n",
       "<table border=\"1\" class=\"dataframe\">\n",
       "  <thead>\n",
       "    <tr style=\"text-align: right;\">\n",
       "      <th></th>\n",
       "      <th>student_id</th>\n",
       "      <th>grp</th>\n",
       "    </tr>\n",
       "  </thead>\n",
       "  <tbody>\n",
       "    <tr>\n",
       "      <th>0</th>\n",
       "      <td>5694584</td>\n",
       "      <td>B</td>\n",
       "    </tr>\n",
       "    <tr>\n",
       "      <th>1</th>\n",
       "      <td>5694830</td>\n",
       "      <td>B</td>\n",
       "    </tr>\n",
       "    <tr>\n",
       "      <th>2</th>\n",
       "      <td>5695057</td>\n",
       "      <td>B</td>\n",
       "    </tr>\n",
       "    <tr>\n",
       "      <th>3</th>\n",
       "      <td>5698872</td>\n",
       "      <td>B</td>\n",
       "    </tr>\n",
       "    <tr>\n",
       "      <th>4</th>\n",
       "      <td>5699067</td>\n",
       "      <td>B</td>\n",
       "    </tr>\n",
       "    <tr>\n",
       "      <th>...</th>\n",
       "      <td>...</td>\n",
       "      <td>...</td>\n",
       "    </tr>\n",
       "    <tr>\n",
       "      <th>87</th>\n",
       "      <td>200247820</td>\n",
       "      <td>B</td>\n",
       "    </tr>\n",
       "    <tr>\n",
       "      <th>88</th>\n",
       "      <td>201032527</td>\n",
       "      <td>B</td>\n",
       "    </tr>\n",
       "    <tr>\n",
       "      <th>89</th>\n",
       "      <td>201067612</td>\n",
       "      <td>B</td>\n",
       "    </tr>\n",
       "    <tr>\n",
       "      <th>90</th>\n",
       "      <td>201067653</td>\n",
       "      <td>B</td>\n",
       "    </tr>\n",
       "    <tr>\n",
       "      <th>91</th>\n",
       "      <td>201067659</td>\n",
       "      <td>B</td>\n",
       "    </tr>\n",
       "  </tbody>\n",
       "</table>\n",
       "<p>92 rows × 2 columns</p>\n",
       "</div>"
      ],
      "text/plain": [
       "    student_id grp\n",
       "0      5694584   B\n",
       "1      5694830   B\n",
       "2      5695057   B\n",
       "3      5698872   B\n",
       "4      5699067   B\n",
       "..         ...  ..\n",
       "87   200247820   B\n",
       "88   201032527   B\n",
       "89   201067612   B\n",
       "90   201067653   B\n",
       "91   201067659   B\n",
       "\n",
       "[92 rows x 2 columns]"
      ]
     },
     "execution_count": 35,
     "metadata": {},
     "output_type": "execute_result"
    }
   ],
   "source": [
    "groups_add"
   ]
  },
  {
   "cell_type": "code",
   "execution_count": 36,
   "metadata": {},
   "outputs": [
    {
     "data": {
      "text/plain": [
       "student_id     int64\n",
       "grp           object\n",
       "dtype: object"
      ]
     },
     "execution_count": 36,
     "metadata": {},
     "output_type": "execute_result"
    }
   ],
   "source": [
    "# типы данных\n",
    "groups_add.dtypes"
   ]
  },
  {
   "cell_type": "code",
   "execution_count": 37,
   "metadata": {},
   "outputs": [
    {
     "data": {
      "text/plain": [
       "student_id    0\n",
       "grp           0\n",
       "dtype: int64"
      ]
     },
     "execution_count": 37,
     "metadata": {},
     "output_type": "execute_result"
    }
   ],
   "source": [
    "#проверяем пустые значения\n",
    "groups_add.isna().sum()"
   ]
  },
  {
   "cell_type": "markdown",
   "metadata": {},
   "source": [
    "### Объединяем таблицы"
   ]
  },
  {
   "cell_type": "code",
   "execution_count": 38,
   "metadata": {},
   "outputs": [],
   "source": [
    "# объединяем groups и groups_add"
   ]
  },
  {
   "cell_type": "code",
   "execution_count": 39,
   "metadata": {},
   "outputs": [
    {
     "data": {
      "text/html": [
       "<div>\n",
       "<style scoped>\n",
       "    .dataframe tbody tr th:only-of-type {\n",
       "        vertical-align: middle;\n",
       "    }\n",
       "\n",
       "    .dataframe tbody tr th {\n",
       "        vertical-align: top;\n",
       "    }\n",
       "\n",
       "    .dataframe thead th {\n",
       "        text-align: right;\n",
       "    }\n",
       "</style>\n",
       "<table border=\"1\" class=\"dataframe\">\n",
       "  <thead>\n",
       "    <tr style=\"text-align: right;\">\n",
       "      <th></th>\n",
       "      <th>student_id</th>\n",
       "      <th>grp</th>\n",
       "    </tr>\n",
       "  </thead>\n",
       "  <tbody>\n",
       "    <tr>\n",
       "      <th>0</th>\n",
       "      <td>1489</td>\n",
       "      <td>B</td>\n",
       "    </tr>\n",
       "    <tr>\n",
       "      <th>1</th>\n",
       "      <td>1627</td>\n",
       "      <td>A</td>\n",
       "    </tr>\n",
       "    <tr>\n",
       "      <th>2</th>\n",
       "      <td>1768</td>\n",
       "      <td>B</td>\n",
       "    </tr>\n",
       "    <tr>\n",
       "      <th>3</th>\n",
       "      <td>1783</td>\n",
       "      <td>B</td>\n",
       "    </tr>\n",
       "    <tr>\n",
       "      <th>4</th>\n",
       "      <td>1794</td>\n",
       "      <td>A</td>\n",
       "    </tr>\n",
       "  </tbody>\n",
       "</table>\n",
       "</div>"
      ],
      "text/plain": [
       "   student_id grp\n",
       "0        1489   B\n",
       "1        1627   A\n",
       "2        1768   B\n",
       "3        1783   B\n",
       "4        1794   A"
      ]
     },
     "execution_count": 39,
     "metadata": {},
     "output_type": "execute_result"
    }
   ],
   "source": [
    "total_groups = groups.merge(groups_add, on = ['student_id', 'grp'], how = 'outer')\n",
    "total_groups.head()"
   ]
  },
  {
   "cell_type": "code",
   "execution_count": 40,
   "metadata": {},
   "outputs": [
    {
     "data": {
      "text/plain": [
       "74576"
      ]
     },
     "execution_count": 40,
     "metadata": {},
     "output_type": "execute_result"
    }
   ],
   "source": [
    "total_groups.shape[0]"
   ]
  },
  {
   "cell_type": "code",
   "execution_count": 41,
   "metadata": {},
   "outputs": [],
   "source": [
    "# объединяем total_groups и checks в total_groups_checks"
   ]
  },
  {
   "cell_type": "code",
   "execution_count": 42,
   "metadata": {},
   "outputs": [
    {
     "data": {
      "text/html": [
       "<div>\n",
       "<style scoped>\n",
       "    .dataframe tbody tr th:only-of-type {\n",
       "        vertical-align: middle;\n",
       "    }\n",
       "\n",
       "    .dataframe tbody tr th {\n",
       "        vertical-align: top;\n",
       "    }\n",
       "\n",
       "    .dataframe thead th {\n",
       "        text-align: right;\n",
       "    }\n",
       "</style>\n",
       "<table border=\"1\" class=\"dataframe\">\n",
       "  <thead>\n",
       "    <tr style=\"text-align: right;\">\n",
       "      <th></th>\n",
       "      <th>student_id</th>\n",
       "      <th>grp</th>\n",
       "      <th>rev</th>\n",
       "    </tr>\n",
       "  </thead>\n",
       "  <tbody>\n",
       "    <tr>\n",
       "      <th>0</th>\n",
       "      <td>1489</td>\n",
       "      <td>B</td>\n",
       "      <td>NaN</td>\n",
       "    </tr>\n",
       "    <tr>\n",
       "      <th>1</th>\n",
       "      <td>1627</td>\n",
       "      <td>A</td>\n",
       "      <td>990.0</td>\n",
       "    </tr>\n",
       "    <tr>\n",
       "      <th>2</th>\n",
       "      <td>1768</td>\n",
       "      <td>B</td>\n",
       "      <td>NaN</td>\n",
       "    </tr>\n",
       "    <tr>\n",
       "      <th>3</th>\n",
       "      <td>1783</td>\n",
       "      <td>B</td>\n",
       "      <td>NaN</td>\n",
       "    </tr>\n",
       "    <tr>\n",
       "      <th>4</th>\n",
       "      <td>1794</td>\n",
       "      <td>A</td>\n",
       "      <td>NaN</td>\n",
       "    </tr>\n",
       "    <tr>\n",
       "      <th>...</th>\n",
       "      <td>...</td>\n",
       "      <td>...</td>\n",
       "      <td>...</td>\n",
       "    </tr>\n",
       "    <tr>\n",
       "      <th>74571</th>\n",
       "      <td>200247820</td>\n",
       "      <td>B</td>\n",
       "      <td>NaN</td>\n",
       "    </tr>\n",
       "    <tr>\n",
       "      <th>74572</th>\n",
       "      <td>201032527</td>\n",
       "      <td>B</td>\n",
       "      <td>NaN</td>\n",
       "    </tr>\n",
       "    <tr>\n",
       "      <th>74573</th>\n",
       "      <td>201067612</td>\n",
       "      <td>B</td>\n",
       "      <td>NaN</td>\n",
       "    </tr>\n",
       "    <tr>\n",
       "      <th>74574</th>\n",
       "      <td>201067653</td>\n",
       "      <td>B</td>\n",
       "      <td>NaN</td>\n",
       "    </tr>\n",
       "    <tr>\n",
       "      <th>74575</th>\n",
       "      <td>201067659</td>\n",
       "      <td>B</td>\n",
       "      <td>NaN</td>\n",
       "    </tr>\n",
       "  </tbody>\n",
       "</table>\n",
       "<p>74576 rows × 3 columns</p>\n",
       "</div>"
      ],
      "text/plain": [
       "       student_id grp    rev\n",
       "0            1489   B    NaN\n",
       "1            1627   A  990.0\n",
       "2            1768   B    NaN\n",
       "3            1783   B    NaN\n",
       "4            1794   A    NaN\n",
       "...           ...  ..    ...\n",
       "74571   200247820   B    NaN\n",
       "74572   201032527   B    NaN\n",
       "74573   201067612   B    NaN\n",
       "74574   201067653   B    NaN\n",
       "74575   201067659   B    NaN\n",
       "\n",
       "[74576 rows x 3 columns]"
      ]
     },
     "execution_count": 42,
     "metadata": {},
     "output_type": "execute_result"
    }
   ],
   "source": [
    "total_groups_checks = total_groups.merge(checks, on = 'student_id', how = 'left')\n",
    "total_groups_checks"
   ]
  },
  {
   "cell_type": "code",
   "execution_count": 43,
   "metadata": {},
   "outputs": [
    {
     "data": {
      "text/html": [
       "<div>\n",
       "<style scoped>\n",
       "    .dataframe tbody tr th:only-of-type {\n",
       "        vertical-align: middle;\n",
       "    }\n",
       "\n",
       "    .dataframe tbody tr th {\n",
       "        vertical-align: top;\n",
       "    }\n",
       "\n",
       "    .dataframe thead th {\n",
       "        text-align: right;\n",
       "    }\n",
       "</style>\n",
       "<table border=\"1\" class=\"dataframe\">\n",
       "  <thead>\n",
       "    <tr style=\"text-align: right;\">\n",
       "      <th></th>\n",
       "      <th>student_id</th>\n",
       "      <th>grp</th>\n",
       "      <th>rev</th>\n",
       "      <th>was_on_platform</th>\n",
       "    </tr>\n",
       "  </thead>\n",
       "  <tbody>\n",
       "    <tr>\n",
       "      <th>0</th>\n",
       "      <td>1489</td>\n",
       "      <td>B</td>\n",
       "      <td>NaN</td>\n",
       "      <td>0.0</td>\n",
       "    </tr>\n",
       "    <tr>\n",
       "      <th>1</th>\n",
       "      <td>1627</td>\n",
       "      <td>A</td>\n",
       "      <td>990.0</td>\n",
       "      <td>1.0</td>\n",
       "    </tr>\n",
       "    <tr>\n",
       "      <th>2</th>\n",
       "      <td>1768</td>\n",
       "      <td>B</td>\n",
       "      <td>NaN</td>\n",
       "      <td>0.0</td>\n",
       "    </tr>\n",
       "    <tr>\n",
       "      <th>3</th>\n",
       "      <td>1783</td>\n",
       "      <td>B</td>\n",
       "      <td>NaN</td>\n",
       "      <td>0.0</td>\n",
       "    </tr>\n",
       "    <tr>\n",
       "      <th>4</th>\n",
       "      <td>1794</td>\n",
       "      <td>A</td>\n",
       "      <td>NaN</td>\n",
       "      <td>0.0</td>\n",
       "    </tr>\n",
       "    <tr>\n",
       "      <th>...</th>\n",
       "      <td>...</td>\n",
       "      <td>...</td>\n",
       "      <td>...</td>\n",
       "      <td>...</td>\n",
       "    </tr>\n",
       "    <tr>\n",
       "      <th>74571</th>\n",
       "      <td>200247820</td>\n",
       "      <td>B</td>\n",
       "      <td>NaN</td>\n",
       "      <td>0.0</td>\n",
       "    </tr>\n",
       "    <tr>\n",
       "      <th>74572</th>\n",
       "      <td>201032527</td>\n",
       "      <td>B</td>\n",
       "      <td>NaN</td>\n",
       "      <td>0.0</td>\n",
       "    </tr>\n",
       "    <tr>\n",
       "      <th>74573</th>\n",
       "      <td>201067612</td>\n",
       "      <td>B</td>\n",
       "      <td>NaN</td>\n",
       "      <td>0.0</td>\n",
       "    </tr>\n",
       "    <tr>\n",
       "      <th>74574</th>\n",
       "      <td>201067653</td>\n",
       "      <td>B</td>\n",
       "      <td>NaN</td>\n",
       "      <td>0.0</td>\n",
       "    </tr>\n",
       "    <tr>\n",
       "      <th>74575</th>\n",
       "      <td>201067659</td>\n",
       "      <td>B</td>\n",
       "      <td>NaN</td>\n",
       "      <td>0.0</td>\n",
       "    </tr>\n",
       "  </tbody>\n",
       "</table>\n",
       "<p>74576 rows × 4 columns</p>\n",
       "</div>"
      ],
      "text/plain": [
       "       student_id grp    rev  was_on_platform\n",
       "0            1489   B    NaN              0.0\n",
       "1            1627   A  990.0              1.0\n",
       "2            1768   B    NaN              0.0\n",
       "3            1783   B    NaN              0.0\n",
       "4            1794   A    NaN              0.0\n",
       "...           ...  ..    ...              ...\n",
       "74571   200247820   B    NaN              0.0\n",
       "74572   201032527   B    NaN              0.0\n",
       "74573   201067612   B    NaN              0.0\n",
       "74574   201067653   B    NaN              0.0\n",
       "74575   201067659   B    NaN              0.0\n",
       "\n",
       "[74576 rows x 4 columns]"
      ]
     },
     "execution_count": 43,
     "metadata": {},
     "output_type": "execute_result"
    }
   ],
   "source": [
    "# объединим total_groups_checks с таблицей active_stud в итоговый датафрейм df, чтобы видеть, какие пользователи \n",
    "# заходили на платформу в дни эксперимента \n",
    "active_studs['was_on_platform'] = 1\n",
    "\n",
    "df = total_groups_checks.merge(active_studs, on ='student_id', how = 'left')\n",
    "df['was_on_platform'] = df.was_on_platform.fillna(0)\n",
    "df\n",
    "# 1 - пользователь заходил на платформу, 0 - пользователь не заходил на платформу"
   ]
  },
  {
   "cell_type": "code",
   "execution_count": 44,
   "metadata": {},
   "outputs": [
    {
     "data": {
      "text/plain": [
       "student_id             0\n",
       "grp                    0\n",
       "rev                74035\n",
       "was_on_platform        0\n",
       "dtype: int64"
      ]
     },
     "execution_count": 44,
     "metadata": {},
     "output_type": "execute_result"
    }
   ],
   "source": [
    "#проверяем пустые значения\n",
    "df.isna().sum()"
   ]
  },
  {
   "cell_type": "markdown",
   "metadata": {},
   "source": [
    "Пользователи, которые не совершили платеж - 74035. \n",
    "\n",
    "Оставшийся 541 пользователь - те, кто совершил оплату в дни эксперимента, соответствует числу пользователей в checks.\n"
   ]
  },
  {
   "cell_type": "code",
   "execution_count": 45,
   "metadata": {},
   "outputs": [
    {
     "data": {
      "text/html": [
       "<div>\n",
       "<style scoped>\n",
       "    .dataframe tbody tr th:only-of-type {\n",
       "        vertical-align: middle;\n",
       "    }\n",
       "\n",
       "    .dataframe tbody tr th {\n",
       "        vertical-align: top;\n",
       "    }\n",
       "\n",
       "    .dataframe thead th {\n",
       "        text-align: right;\n",
       "    }\n",
       "</style>\n",
       "<table border=\"1\" class=\"dataframe\">\n",
       "  <thead>\n",
       "    <tr style=\"text-align: right;\">\n",
       "      <th></th>\n",
       "      <th>grp</th>\n",
       "      <th>student_id</th>\n",
       "    </tr>\n",
       "  </thead>\n",
       "  <tbody>\n",
       "    <tr>\n",
       "      <th>0</th>\n",
       "      <td>A</td>\n",
       "      <td>14693</td>\n",
       "    </tr>\n",
       "    <tr>\n",
       "      <th>1</th>\n",
       "      <td>B</td>\n",
       "      <td>59883</td>\n",
       "    </tr>\n",
       "  </tbody>\n",
       "</table>\n",
       "</div>"
      ],
      "text/plain": [
       "  grp  student_id\n",
       "0   A       14693\n",
       "1   B       59883"
      ]
     },
     "execution_count": 45,
     "metadata": {},
     "output_type": "execute_result"
    }
   ],
   "source": [
    "#пользователей в кажой группе\n",
    "df.groupby(\"grp\", as_index = False).agg({'student_id': 'nunique'})"
   ]
  },
  {
   "cell_type": "code",
   "execution_count": 49,
   "metadata": {},
   "outputs": [
    {
     "data": {
      "text/plain": [
       "39          3185\n",
       "121        25973\n",
       "125        26280\n",
       "223       100645\n",
       "254       102534\n",
       "          ...   \n",
       "72452    5291900\n",
       "72753    5331842\n",
       "73632    5486319\n",
       "74049    5562806\n",
       "74216    5599663\n",
       "Name: student_id, Length: 149, dtype: int64"
      ]
     },
     "execution_count": 49,
     "metadata": {},
     "output_type": "execute_result"
    }
   ],
   "source": [
    "# проверим данные на противоречивость, были ли оплаты, если пользователь не находился на платформе в день \n",
    "# эксперимента\n",
    "student_id_to_drop = df[~df['rev'].isna()].query(\"was_on_platform == 0\").student_id\n",
    "student_id_to_drop"
   ]
  },
  {
   "cell_type": "markdown",
   "metadata": {},
   "source": [
    "Видим, что 149 пользователей совершили оплату, но при этом не находились на платформе в дни проведения эксперимента.\n",
    "\n",
    "Возможно, заказ был сделан ранее и настроена оплата, но по техническим причинам списание средств произошло \n",
    "только в дни эксперимента.\n",
    "\n",
    "Исключим данных пользователей из датафрейма."
   ]
  },
  {
   "cell_type": "code",
   "execution_count": 50,
   "metadata": {},
   "outputs": [
    {
     "data": {
      "text/html": [
       "<div>\n",
       "<style scoped>\n",
       "    .dataframe tbody tr th:only-of-type {\n",
       "        vertical-align: middle;\n",
       "    }\n",
       "\n",
       "    .dataframe tbody tr th {\n",
       "        vertical-align: top;\n",
       "    }\n",
       "\n",
       "    .dataframe thead th {\n",
       "        text-align: right;\n",
       "    }\n",
       "</style>\n",
       "<table border=\"1\" class=\"dataframe\">\n",
       "  <thead>\n",
       "    <tr style=\"text-align: right;\">\n",
       "      <th></th>\n",
       "      <th>student_id</th>\n",
       "      <th>grp</th>\n",
       "      <th>rev</th>\n",
       "      <th>was_on_platform</th>\n",
       "    </tr>\n",
       "  </thead>\n",
       "  <tbody>\n",
       "    <tr>\n",
       "      <th>0</th>\n",
       "      <td>1489</td>\n",
       "      <td>B</td>\n",
       "      <td>NaN</td>\n",
       "      <td>0.0</td>\n",
       "    </tr>\n",
       "    <tr>\n",
       "      <th>1</th>\n",
       "      <td>1627</td>\n",
       "      <td>A</td>\n",
       "      <td>990.0</td>\n",
       "      <td>1.0</td>\n",
       "    </tr>\n",
       "    <tr>\n",
       "      <th>2</th>\n",
       "      <td>1768</td>\n",
       "      <td>B</td>\n",
       "      <td>NaN</td>\n",
       "      <td>0.0</td>\n",
       "    </tr>\n",
       "    <tr>\n",
       "      <th>3</th>\n",
       "      <td>1783</td>\n",
       "      <td>B</td>\n",
       "      <td>NaN</td>\n",
       "      <td>0.0</td>\n",
       "    </tr>\n",
       "    <tr>\n",
       "      <th>4</th>\n",
       "      <td>1794</td>\n",
       "      <td>A</td>\n",
       "      <td>NaN</td>\n",
       "      <td>0.0</td>\n",
       "    </tr>\n",
       "    <tr>\n",
       "      <th>...</th>\n",
       "      <td>...</td>\n",
       "      <td>...</td>\n",
       "      <td>...</td>\n",
       "      <td>...</td>\n",
       "    </tr>\n",
       "    <tr>\n",
       "      <th>74571</th>\n",
       "      <td>200247820</td>\n",
       "      <td>B</td>\n",
       "      <td>NaN</td>\n",
       "      <td>0.0</td>\n",
       "    </tr>\n",
       "    <tr>\n",
       "      <th>74572</th>\n",
       "      <td>201032527</td>\n",
       "      <td>B</td>\n",
       "      <td>NaN</td>\n",
       "      <td>0.0</td>\n",
       "    </tr>\n",
       "    <tr>\n",
       "      <th>74573</th>\n",
       "      <td>201067612</td>\n",
       "      <td>B</td>\n",
       "      <td>NaN</td>\n",
       "      <td>0.0</td>\n",
       "    </tr>\n",
       "    <tr>\n",
       "      <th>74574</th>\n",
       "      <td>201067653</td>\n",
       "      <td>B</td>\n",
       "      <td>NaN</td>\n",
       "      <td>0.0</td>\n",
       "    </tr>\n",
       "    <tr>\n",
       "      <th>74575</th>\n",
       "      <td>201067659</td>\n",
       "      <td>B</td>\n",
       "      <td>NaN</td>\n",
       "      <td>0.0</td>\n",
       "    </tr>\n",
       "  </tbody>\n",
       "</table>\n",
       "<p>74427 rows × 4 columns</p>\n",
       "</div>"
      ],
      "text/plain": [
       "       student_id grp    rev  was_on_platform\n",
       "0            1489   B    NaN              0.0\n",
       "1            1627   A  990.0              1.0\n",
       "2            1768   B    NaN              0.0\n",
       "3            1783   B    NaN              0.0\n",
       "4            1794   A    NaN              0.0\n",
       "...           ...  ..    ...              ...\n",
       "74571   200247820   B    NaN              0.0\n",
       "74572   201032527   B    NaN              0.0\n",
       "74573   201067612   B    NaN              0.0\n",
       "74574   201067653   B    NaN              0.0\n",
       "74575   201067659   B    NaN              0.0\n",
       "\n",
       "[74427 rows x 4 columns]"
      ]
     },
     "execution_count": 50,
     "metadata": {},
     "output_type": "execute_result"
    }
   ],
   "source": [
    "df_new = df.query(\"student_id not in @student_id_to_drop\")\n",
    "df_new "
   ]
  },
  {
   "cell_type": "code",
   "execution_count": 52,
   "metadata": {},
   "outputs": [
    {
     "name": "stderr",
     "output_type": "stream",
     "text": [
      "/opt/tljh/user/lib/python3.7/site-packages/ipykernel_launcher.py:2: SettingWithCopyWarning: \n",
      "A value is trying to be set on a copy of a slice from a DataFrame.\n",
      "Try using .loc[row_indexer,col_indexer] = value instead\n",
      "\n",
      "See the caveats in the documentation: https://pandas.pydata.org/pandas-docs/stable/user_guide/indexing.html#returning-a-view-versus-a-copy\n",
      "  \n"
     ]
    },
    {
     "data": {
      "text/html": [
       "<div>\n",
       "<style scoped>\n",
       "    .dataframe tbody tr th:only-of-type {\n",
       "        vertical-align: middle;\n",
       "    }\n",
       "\n",
       "    .dataframe tbody tr th {\n",
       "        vertical-align: top;\n",
       "    }\n",
       "\n",
       "    .dataframe thead th {\n",
       "        text-align: right;\n",
       "    }\n",
       "</style>\n",
       "<table border=\"1\" class=\"dataframe\">\n",
       "  <thead>\n",
       "    <tr style=\"text-align: right;\">\n",
       "      <th></th>\n",
       "      <th>student_id</th>\n",
       "      <th>grp</th>\n",
       "      <th>rev</th>\n",
       "      <th>was_on_platform</th>\n",
       "    </tr>\n",
       "  </thead>\n",
       "  <tbody>\n",
       "    <tr>\n",
       "      <th>0</th>\n",
       "      <td>1489</td>\n",
       "      <td>B</td>\n",
       "      <td>0.0</td>\n",
       "      <td>0.0</td>\n",
       "    </tr>\n",
       "    <tr>\n",
       "      <th>1</th>\n",
       "      <td>1627</td>\n",
       "      <td>A</td>\n",
       "      <td>990.0</td>\n",
       "      <td>1.0</td>\n",
       "    </tr>\n",
       "    <tr>\n",
       "      <th>2</th>\n",
       "      <td>1768</td>\n",
       "      <td>B</td>\n",
       "      <td>0.0</td>\n",
       "      <td>0.0</td>\n",
       "    </tr>\n",
       "    <tr>\n",
       "      <th>3</th>\n",
       "      <td>1783</td>\n",
       "      <td>B</td>\n",
       "      <td>0.0</td>\n",
       "      <td>0.0</td>\n",
       "    </tr>\n",
       "    <tr>\n",
       "      <th>4</th>\n",
       "      <td>1794</td>\n",
       "      <td>A</td>\n",
       "      <td>0.0</td>\n",
       "      <td>0.0</td>\n",
       "    </tr>\n",
       "    <tr>\n",
       "      <th>...</th>\n",
       "      <td>...</td>\n",
       "      <td>...</td>\n",
       "      <td>...</td>\n",
       "      <td>...</td>\n",
       "    </tr>\n",
       "    <tr>\n",
       "      <th>74571</th>\n",
       "      <td>200247820</td>\n",
       "      <td>B</td>\n",
       "      <td>0.0</td>\n",
       "      <td>0.0</td>\n",
       "    </tr>\n",
       "    <tr>\n",
       "      <th>74572</th>\n",
       "      <td>201032527</td>\n",
       "      <td>B</td>\n",
       "      <td>0.0</td>\n",
       "      <td>0.0</td>\n",
       "    </tr>\n",
       "    <tr>\n",
       "      <th>74573</th>\n",
       "      <td>201067612</td>\n",
       "      <td>B</td>\n",
       "      <td>0.0</td>\n",
       "      <td>0.0</td>\n",
       "    </tr>\n",
       "    <tr>\n",
       "      <th>74574</th>\n",
       "      <td>201067653</td>\n",
       "      <td>B</td>\n",
       "      <td>0.0</td>\n",
       "      <td>0.0</td>\n",
       "    </tr>\n",
       "    <tr>\n",
       "      <th>74575</th>\n",
       "      <td>201067659</td>\n",
       "      <td>B</td>\n",
       "      <td>0.0</td>\n",
       "      <td>0.0</td>\n",
       "    </tr>\n",
       "  </tbody>\n",
       "</table>\n",
       "<p>74427 rows × 4 columns</p>\n",
       "</div>"
      ],
      "text/plain": [
       "       student_id grp    rev  was_on_platform\n",
       "0            1489   B    0.0              0.0\n",
       "1            1627   A  990.0              1.0\n",
       "2            1768   B    0.0              0.0\n",
       "3            1783   B    0.0              0.0\n",
       "4            1794   A    0.0              0.0\n",
       "...           ...  ..    ...              ...\n",
       "74571   200247820   B    0.0              0.0\n",
       "74572   201032527   B    0.0              0.0\n",
       "74573   201067612   B    0.0              0.0\n",
       "74574   201067653   B    0.0              0.0\n",
       "74575   201067659   B    0.0              0.0\n",
       "\n",
       "[74427 rows x 4 columns]"
      ]
     },
     "execution_count": 52,
     "metadata": {},
     "output_type": "execute_result"
    }
   ],
   "source": [
    "#заполним пустые значения в колонке rev, для удобства дальнейшей работы с данными\n",
    "df_new['rev'] = df_new.rev.fillna(0)\n",
    "df_new"
   ]
  },
  {
   "cell_type": "markdown",
   "metadata": {},
   "source": [
    "### Выбор метрик"
   ]
  },
  {
   "cell_type": "markdown",
   "metadata": {},
   "source": [
    "Так как у нас есть данные о всех пользователях, о пользователях, кто заходил на платформу в дни эксперимента и \n",
    "о пользователях, оплативших заказ, можем рассчитать следующие метрики.\n",
    "\n",
    "- средний чек клиента\n",
    "- CR(конверсия в покупку) = покупки/клики\n",
    "- ARPU = доход/кол-во пользователей\n",
    "- ARPPU = доход/кол-во клиентов"
   ]
  },
  {
   "cell_type": "markdown",
   "metadata": {},
   "source": [
    "#### средний чек\n",
    "Нас интересуют оплаты пользователей, которые посещали платформу в дни эксперимента, \n",
    "отфильтруем данные, оставив только тех пользователей, кто находился на платформе в дни эксперимента."
   ]
  },
  {
   "cell_type": "code",
   "execution_count": 60,
   "metadata": {},
   "outputs": [
    {
     "data": {
      "text/html": [
       "<div>\n",
       "<style scoped>\n",
       "    .dataframe tbody tr th:only-of-type {\n",
       "        vertical-align: middle;\n",
       "    }\n",
       "\n",
       "    .dataframe tbody tr th {\n",
       "        vertical-align: top;\n",
       "    }\n",
       "\n",
       "    .dataframe thead th {\n",
       "        text-align: right;\n",
       "    }\n",
       "</style>\n",
       "<table border=\"1\" class=\"dataframe\">\n",
       "  <thead>\n",
       "    <tr style=\"text-align: right;\">\n",
       "      <th></th>\n",
       "      <th>student_id</th>\n",
       "      <th>grp</th>\n",
       "      <th>rev</th>\n",
       "      <th>was_on_platform</th>\n",
       "    </tr>\n",
       "  </thead>\n",
       "  <tbody>\n",
       "    <tr>\n",
       "      <th>1</th>\n",
       "      <td>1627</td>\n",
       "      <td>A</td>\n",
       "      <td>990.0</td>\n",
       "      <td>1.0</td>\n",
       "    </tr>\n",
       "    <tr>\n",
       "      <th>10</th>\n",
       "      <td>2085</td>\n",
       "      <td>B</td>\n",
       "      <td>0.0</td>\n",
       "      <td>1.0</td>\n",
       "    </tr>\n",
       "    <tr>\n",
       "      <th>12</th>\n",
       "      <td>2215</td>\n",
       "      <td>B</td>\n",
       "      <td>0.0</td>\n",
       "      <td>1.0</td>\n",
       "    </tr>\n",
       "    <tr>\n",
       "      <th>43</th>\n",
       "      <td>3391</td>\n",
       "      <td>A</td>\n",
       "      <td>0.0</td>\n",
       "      <td>1.0</td>\n",
       "    </tr>\n",
       "    <tr>\n",
       "      <th>45</th>\n",
       "      <td>3401</td>\n",
       "      <td>B</td>\n",
       "      <td>0.0</td>\n",
       "      <td>1.0</td>\n",
       "    </tr>\n",
       "    <tr>\n",
       "      <th>...</th>\n",
       "      <td>...</td>\n",
       "      <td>...</td>\n",
       "      <td>...</td>\n",
       "      <td>...</td>\n",
       "    </tr>\n",
       "    <tr>\n",
       "      <th>74543</th>\n",
       "      <td>5760471</td>\n",
       "      <td>B</td>\n",
       "      <td>0.0</td>\n",
       "      <td>1.0</td>\n",
       "    </tr>\n",
       "    <tr>\n",
       "      <th>74545</th>\n",
       "      <td>5777081</td>\n",
       "      <td>B</td>\n",
       "      <td>0.0</td>\n",
       "      <td>1.0</td>\n",
       "    </tr>\n",
       "    <tr>\n",
       "      <th>74558</th>\n",
       "      <td>5870856</td>\n",
       "      <td>A</td>\n",
       "      <td>0.0</td>\n",
       "      <td>1.0</td>\n",
       "    </tr>\n",
       "    <tr>\n",
       "      <th>74561</th>\n",
       "      <td>5945085</td>\n",
       "      <td>B</td>\n",
       "      <td>0.0</td>\n",
       "      <td>1.0</td>\n",
       "    </tr>\n",
       "    <tr>\n",
       "      <th>74562</th>\n",
       "      <td>5951797</td>\n",
       "      <td>B</td>\n",
       "      <td>0.0</td>\n",
       "      <td>1.0</td>\n",
       "    </tr>\n",
       "  </tbody>\n",
       "</table>\n",
       "<p>8341 rows × 4 columns</p>\n",
       "</div>"
      ],
      "text/plain": [
       "       student_id grp    rev  was_on_platform\n",
       "1            1627   A  990.0              1.0\n",
       "10           2085   B    0.0              1.0\n",
       "12           2215   B    0.0              1.0\n",
       "43           3391   A    0.0              1.0\n",
       "45           3401   B    0.0              1.0\n",
       "...           ...  ..    ...              ...\n",
       "74543     5760471   B    0.0              1.0\n",
       "74545     5777081   B    0.0              1.0\n",
       "74558     5870856   A    0.0              1.0\n",
       "74561     5945085   B    0.0              1.0\n",
       "74562     5951797   B    0.0              1.0\n",
       "\n",
       "[8341 rows x 4 columns]"
      ]
     },
     "execution_count": 60,
     "metadata": {},
     "output_type": "execute_result"
    }
   ],
   "source": [
    "df_was_on_platform = df_new.query(\"was_on_platform == 1\")\n",
    "df_was_on_platform"
   ]
  },
  {
   "cell_type": "code",
   "execution_count": 61,
   "metadata": {},
   "outputs": [
    {
     "data": {
      "text/html": [
       "<div>\n",
       "<style scoped>\n",
       "    .dataframe tbody tr th:only-of-type {\n",
       "        vertical-align: middle;\n",
       "    }\n",
       "\n",
       "    .dataframe tbody tr th {\n",
       "        vertical-align: top;\n",
       "    }\n",
       "\n",
       "    .dataframe thead th {\n",
       "        text-align: right;\n",
       "    }\n",
       "</style>\n",
       "<table border=\"1\" class=\"dataframe\">\n",
       "  <thead>\n",
       "    <tr style=\"text-align: right;\">\n",
       "      <th></th>\n",
       "      <th>grp</th>\n",
       "      <th>clicks</th>\n",
       "    </tr>\n",
       "  </thead>\n",
       "  <tbody>\n",
       "    <tr>\n",
       "      <th>0</th>\n",
       "      <td>A</td>\n",
       "      <td>1538</td>\n",
       "    </tr>\n",
       "    <tr>\n",
       "      <th>1</th>\n",
       "      <td>B</td>\n",
       "      <td>6803</td>\n",
       "    </tr>\n",
       "  </tbody>\n",
       "</table>\n",
       "</div>"
      ],
      "text/plain": [
       "  grp  clicks\n",
       "0   A    1538\n",
       "1   B    6803"
      ]
     },
     "execution_count": 61,
     "metadata": {},
     "output_type": "execute_result"
    }
   ],
   "source": [
    "#посмотрим на численность пользователей каждой группы, кто был на платформе\n",
    "df_was_on_platform.groupby('grp', as_index = False)\\\n",
    "                    .agg({'student_id': 'nunique'})\\\n",
    "                    .rename(columns = {'student_id':'clicks'})"
   ]
  },
  {
   "cell_type": "markdown",
   "metadata": {},
   "source": [
    "в целевой группе B в 4.4 раза больше пользователей, которые были на платформе, чем в контрольной группе А"
   ]
  },
  {
   "cell_type": "code",
   "execution_count": 62,
   "metadata": {},
   "outputs": [
    {
     "data": {
      "text/html": [
       "<div>\n",
       "<style scoped>\n",
       "    .dataframe tbody tr th:only-of-type {\n",
       "        vertical-align: middle;\n",
       "    }\n",
       "\n",
       "    .dataframe tbody tr th {\n",
       "        vertical-align: top;\n",
       "    }\n",
       "\n",
       "    .dataframe thead th {\n",
       "        text-align: right;\n",
       "    }\n",
       "</style>\n",
       "<table border=\"1\" class=\"dataframe\">\n",
       "  <thead>\n",
       "    <tr style=\"text-align: right;\">\n",
       "      <th></th>\n",
       "      <th>student_id</th>\n",
       "      <th>grp</th>\n",
       "      <th>rev</th>\n",
       "      <th>was_on_platform</th>\n",
       "    </tr>\n",
       "  </thead>\n",
       "  <tbody>\n",
       "    <tr>\n",
       "      <th>1</th>\n",
       "      <td>1627</td>\n",
       "      <td>A</td>\n",
       "      <td>990.0000</td>\n",
       "      <td>1.0</td>\n",
       "    </tr>\n",
       "    <tr>\n",
       "      <th>220</th>\n",
       "      <td>100300</td>\n",
       "      <td>B</td>\n",
       "      <td>990.0000</td>\n",
       "      <td>1.0</td>\n",
       "    </tr>\n",
       "    <tr>\n",
       "      <th>320</th>\n",
       "      <td>108270</td>\n",
       "      <td>B</td>\n",
       "      <td>290.0000</td>\n",
       "      <td>1.0</td>\n",
       "    </tr>\n",
       "    <tr>\n",
       "      <th>3779</th>\n",
       "      <td>264473</td>\n",
       "      <td>B</td>\n",
       "      <td>1900.0001</td>\n",
       "      <td>1.0</td>\n",
       "    </tr>\n",
       "    <tr>\n",
       "      <th>4187</th>\n",
       "      <td>274352</td>\n",
       "      <td>B</td>\n",
       "      <td>690.0000</td>\n",
       "      <td>1.0</td>\n",
       "    </tr>\n",
       "    <tr>\n",
       "      <th>...</th>\n",
       "      <td>...</td>\n",
       "      <td>...</td>\n",
       "      <td>...</td>\n",
       "      <td>...</td>\n",
       "    </tr>\n",
       "    <tr>\n",
       "      <th>74365</th>\n",
       "      <td>5645737</td>\n",
       "      <td>B</td>\n",
       "      <td>1900.0000</td>\n",
       "      <td>1.0</td>\n",
       "    </tr>\n",
       "    <tr>\n",
       "      <th>74381</th>\n",
       "      <td>5651566</td>\n",
       "      <td>B</td>\n",
       "      <td>1900.0000</td>\n",
       "      <td>1.0</td>\n",
       "    </tr>\n",
       "    <tr>\n",
       "      <th>74402</th>\n",
       "      <td>5662322</td>\n",
       "      <td>B</td>\n",
       "      <td>1900.0000</td>\n",
       "      <td>1.0</td>\n",
       "    </tr>\n",
       "    <tr>\n",
       "      <th>74452</th>\n",
       "      <td>5681918</td>\n",
       "      <td>B</td>\n",
       "      <td>1900.0000</td>\n",
       "      <td>1.0</td>\n",
       "    </tr>\n",
       "    <tr>\n",
       "      <th>74539</th>\n",
       "      <td>5740903</td>\n",
       "      <td>B</td>\n",
       "      <td>1900.0000</td>\n",
       "      <td>1.0</td>\n",
       "    </tr>\n",
       "  </tbody>\n",
       "</table>\n",
       "<p>392 rows × 4 columns</p>\n",
       "</div>"
      ],
      "text/plain": [
       "       student_id grp        rev  was_on_platform\n",
       "1            1627   A   990.0000              1.0\n",
       "220        100300   B   990.0000              1.0\n",
       "320        108270   B   290.0000              1.0\n",
       "3779       264473   B  1900.0001              1.0\n",
       "4187       274352   B   690.0000              1.0\n",
       "...           ...  ..        ...              ...\n",
       "74365     5645737   B  1900.0000              1.0\n",
       "74381     5651566   B  1900.0000              1.0\n",
       "74402     5662322   B  1900.0000              1.0\n",
       "74452     5681918   B  1900.0000              1.0\n",
       "74539     5740903   B  1900.0000              1.0\n",
       "\n",
       "[392 rows x 4 columns]"
      ]
     },
     "execution_count": 62,
     "metadata": {},
     "output_type": "execute_result"
    }
   ],
   "source": [
    "#создадим датафрейм с клиентами - пользователями, которые были на платформе в день эксперимента и совершили оплату\n",
    "df_clients = df_was_on_platform.query(\"rev != 0\")\n",
    "df_clients"
   ]
  },
  {
   "cell_type": "code",
   "execution_count": 63,
   "metadata": {},
   "outputs": [
    {
     "data": {
      "text/html": [
       "<div>\n",
       "<style scoped>\n",
       "    .dataframe tbody tr th:only-of-type {\n",
       "        vertical-align: middle;\n",
       "    }\n",
       "\n",
       "    .dataframe tbody tr th {\n",
       "        vertical-align: top;\n",
       "    }\n",
       "\n",
       "    .dataframe thead th {\n",
       "        text-align: right;\n",
       "    }\n",
       "</style>\n",
       "<table border=\"1\" class=\"dataframe\">\n",
       "  <thead>\n",
       "    <tr style=\"text-align: right;\">\n",
       "      <th></th>\n",
       "      <th>grp</th>\n",
       "      <th>mean_check</th>\n",
       "    </tr>\n",
       "  </thead>\n",
       "  <tbody>\n",
       "    <tr>\n",
       "      <th>0</th>\n",
       "      <td>A</td>\n",
       "      <td>933.589744</td>\n",
       "    </tr>\n",
       "    <tr>\n",
       "      <th>1</th>\n",
       "      <td>B</td>\n",
       "      <td>1257.878992</td>\n",
       "    </tr>\n",
       "  </tbody>\n",
       "</table>\n",
       "</div>"
      ],
      "text/plain": [
       "  grp   mean_check\n",
       "0   A   933.589744\n",
       "1   B  1257.878992"
      ]
     },
     "execution_count": 63,
     "metadata": {},
     "output_type": "execute_result"
    }
   ],
   "source": [
    "#средний чек клиента для обеих групп\n",
    "mean_check_clients = df_clients.groupby('grp', as_index = False)\\\n",
    "                                .agg({'rev': 'mean'})\\\n",
    "                                .rename(columns = {'rev': 'mean_check'})\n",
    "mean_check_clients"
   ]
  },
  {
   "cell_type": "code",
   "execution_count": 64,
   "metadata": {},
   "outputs": [
    {
     "data": {
      "text/html": [
       "<div>\n",
       "<style scoped>\n",
       "    .dataframe tbody tr th:only-of-type {\n",
       "        vertical-align: middle;\n",
       "    }\n",
       "\n",
       "    .dataframe tbody tr th {\n",
       "        vertical-align: top;\n",
       "    }\n",
       "\n",
       "    .dataframe thead th {\n",
       "        text-align: right;\n",
       "    }\n",
       "</style>\n",
       "<table border=\"1\" class=\"dataframe\">\n",
       "  <thead>\n",
       "    <tr style=\"text-align: right;\">\n",
       "      <th></th>\n",
       "      <th>grp</th>\n",
       "      <th>median_check</th>\n",
       "    </tr>\n",
       "  </thead>\n",
       "  <tbody>\n",
       "    <tr>\n",
       "      <th>0</th>\n",
       "      <td>A</td>\n",
       "      <td>585.0</td>\n",
       "    </tr>\n",
       "    <tr>\n",
       "      <th>1</th>\n",
       "      <td>B</td>\n",
       "      <td>1140.0</td>\n",
       "    </tr>\n",
       "  </tbody>\n",
       "</table>\n",
       "</div>"
      ],
      "text/plain": [
       "  grp  median_check\n",
       "0   A         585.0\n",
       "1   B        1140.0"
      ]
     },
     "execution_count": 64,
     "metadata": {},
     "output_type": "execute_result"
    }
   ],
   "source": [
    "#медианный чек клиента для обеих групп\n",
    "median_check_clients = df_clients.groupby('grp', as_index = False)\\\n",
    "                                .agg({'rev': np.median})\\\n",
    "                                .rename(columns = {'rev': 'median_check'})\n",
    "median_check_clients"
   ]
  },
  {
   "cell_type": "markdown",
   "metadata": {},
   "source": [
    "#### CR (конверсия в покупку)"
   ]
  },
  {
   "cell_type": "code",
   "execution_count": 65,
   "metadata": {},
   "outputs": [
    {
     "data": {
      "text/html": [
       "<div>\n",
       "<style scoped>\n",
       "    .dataframe tbody tr th:only-of-type {\n",
       "        vertical-align: middle;\n",
       "    }\n",
       "\n",
       "    .dataframe tbody tr th {\n",
       "        vertical-align: top;\n",
       "    }\n",
       "\n",
       "    .dataframe thead th {\n",
       "        text-align: right;\n",
       "    }\n",
       "</style>\n",
       "<table border=\"1\" class=\"dataframe\">\n",
       "  <thead>\n",
       "    <tr style=\"text-align: right;\">\n",
       "      <th></th>\n",
       "      <th>grp</th>\n",
       "      <th>purchases</th>\n",
       "      <th>clicks</th>\n",
       "      <th>CR</th>\n",
       "    </tr>\n",
       "  </thead>\n",
       "  <tbody>\n",
       "    <tr>\n",
       "      <th>0</th>\n",
       "      <td>A</td>\n",
       "      <td>78</td>\n",
       "      <td>1538</td>\n",
       "      <td>5.071521</td>\n",
       "    </tr>\n",
       "    <tr>\n",
       "      <th>1</th>\n",
       "      <td>B</td>\n",
       "      <td>314</td>\n",
       "      <td>6803</td>\n",
       "      <td>4.615611</td>\n",
       "    </tr>\n",
       "  </tbody>\n",
       "</table>\n",
       "</div>"
      ],
      "text/plain": [
       "  grp  purchases  clicks        CR\n",
       "0   A         78    1538  5.071521\n",
       "1   B        314    6803  4.615611"
      ]
     },
     "execution_count": 65,
     "metadata": {},
     "output_type": "execute_result"
    }
   ],
   "source": [
    "# CR(%) для каждой группы\n",
    "#число покупок(оплат) для обеих групп \n",
    "purchases = df_clients\\\n",
    "                    .groupby('grp', as_index = False).agg({'student_id': 'count'})\\\n",
    "                    .rename(columns = {'student_id': 'purchases'})\n",
    "\n",
    "#число кликов(показов) для обеих групп\n",
    "clicks = df_was_on_platform.groupby('grp', as_index = False)\\\n",
    "                .agg({'student_id': 'count'})\\\n",
    "                .rename(columns = {'student_id': 'clicks'})\n",
    "\n",
    "# рассчитываем CR(%)\n",
    "cr = purchases.merge(clicks, on = 'grp', how = 'inner')\n",
    "cr['CR'] = cr.purchases / cr.clicks *100\n",
    "cr"
   ]
  },
  {
   "cell_type": "markdown",
   "metadata": {},
   "source": [
    "#### ARPU"
   ]
  },
  {
   "cell_type": "code",
   "execution_count": 66,
   "metadata": {},
   "outputs": [
    {
     "data": {
      "text/html": [
       "<div>\n",
       "<style scoped>\n",
       "    .dataframe tbody tr th:only-of-type {\n",
       "        vertical-align: middle;\n",
       "    }\n",
       "\n",
       "    .dataframe tbody tr th {\n",
       "        vertical-align: top;\n",
       "    }\n",
       "\n",
       "    .dataframe thead th {\n",
       "        text-align: right;\n",
       "    }\n",
       "</style>\n",
       "<table border=\"1\" class=\"dataframe\">\n",
       "  <thead>\n",
       "    <tr style=\"text-align: right;\">\n",
       "      <th></th>\n",
       "      <th>grp</th>\n",
       "      <th>sum_revenue</th>\n",
       "      <th>students</th>\n",
       "      <th>ARPU</th>\n",
       "    </tr>\n",
       "  </thead>\n",
       "  <tbody>\n",
       "    <tr>\n",
       "      <th>0</th>\n",
       "      <td>A</td>\n",
       "      <td>72820.0000</td>\n",
       "      <td>14664</td>\n",
       "      <td>4.965903</td>\n",
       "    </tr>\n",
       "    <tr>\n",
       "      <th>1</th>\n",
       "      <td>B</td>\n",
       "      <td>394974.0035</td>\n",
       "      <td>59763</td>\n",
       "      <td>6.609006</td>\n",
       "    </tr>\n",
       "  </tbody>\n",
       "</table>\n",
       "</div>"
      ],
      "text/plain": [
       "  grp  sum_revenue  students      ARPU\n",
       "0   A   72820.0000     14664  4.965903\n",
       "1   B  394974.0035     59763  6.609006"
      ]
     },
     "execution_count": 66,
     "metadata": {},
     "output_type": "execute_result"
    }
   ],
   "source": [
    "# ARPU для обеих групп\n",
    "\n",
    "#выручка для обеих групп\n",
    "sum_rev = df_clients.groupby('grp', as_index = False)\\\n",
    "               .agg({'rev': 'sum'})\\\n",
    "               .rename(columns = {'rev': 'sum_revenue'}) \n",
    "\n",
    "#количество пользователей считаем по общей таблице df_new (без учета исключенных пользователей)\n",
    "students = df_new.groupby('grp', as_index = False)\\\n",
    "        .agg({'student_id': 'nunique'})\\\n",
    "        .rename(columns = {'student_id': 'students'}) \n",
    "\n",
    "# рассчитываем ARPU\n",
    "arpu = sum_rev.merge(students, on = 'grp', how = 'inner')\n",
    "arpu['ARPU'] = arpu.sum_revenue / arpu.students \n",
    "arpu"
   ]
  },
  {
   "cell_type": "markdown",
   "metadata": {},
   "source": [
    "#### ARPPU"
   ]
  },
  {
   "cell_type": "code",
   "execution_count": 67,
   "metadata": {},
   "outputs": [
    {
     "data": {
      "text/html": [
       "<div>\n",
       "<style scoped>\n",
       "    .dataframe tbody tr th:only-of-type {\n",
       "        vertical-align: middle;\n",
       "    }\n",
       "\n",
       "    .dataframe tbody tr th {\n",
       "        vertical-align: top;\n",
       "    }\n",
       "\n",
       "    .dataframe thead th {\n",
       "        text-align: right;\n",
       "    }\n",
       "</style>\n",
       "<table border=\"1\" class=\"dataframe\">\n",
       "  <thead>\n",
       "    <tr style=\"text-align: right;\">\n",
       "      <th></th>\n",
       "      <th>grp</th>\n",
       "      <th>sum_revenue</th>\n",
       "      <th>clients</th>\n",
       "      <th>ARPPU</th>\n",
       "    </tr>\n",
       "  </thead>\n",
       "  <tbody>\n",
       "    <tr>\n",
       "      <th>0</th>\n",
       "      <td>A</td>\n",
       "      <td>72820.0000</td>\n",
       "      <td>78</td>\n",
       "      <td>933.589744</td>\n",
       "    </tr>\n",
       "    <tr>\n",
       "      <th>1</th>\n",
       "      <td>B</td>\n",
       "      <td>394974.0035</td>\n",
       "      <td>314</td>\n",
       "      <td>1257.878992</td>\n",
       "    </tr>\n",
       "  </tbody>\n",
       "</table>\n",
       "</div>"
      ],
      "text/plain": [
       "  grp  sum_revenue  clients        ARPPU\n",
       "0   A   72820.0000       78   933.589744\n",
       "1   B  394974.0035      314  1257.878992"
      ]
     },
     "execution_count": 67,
     "metadata": {},
     "output_type": "execute_result"
    }
   ],
   "source": [
    "# ARPPU для обеих групп\n",
    "arppu = sum_rev.merge(purchases, on = 'grp', how = 'inner').rename(columns = {'purchases': 'clients'})\n",
    "arppu['ARPPU'] = arppu.sum_revenue / arppu.clients\n",
    "arppu"
   ]
  },
  {
   "cell_type": "markdown",
   "metadata": {},
   "source": [
    "Значения ARPPU соответствуют значениям среднего чека. Что логично, ведь в наших данных каждый пользователь \n",
    "совершил покупку только один раз (число пользователей равно числу уникальных пользователей). Соответственно, далее нет смысла учитывать ARPPU."
   ]
  },
  {
   "cell_type": "markdown",
   "metadata": {},
   "source": [
    "#### Таблица с метриками"
   ]
  },
  {
   "cell_type": "code",
   "execution_count": 68,
   "metadata": {},
   "outputs": [
    {
     "data": {
      "text/html": [
       "<div>\n",
       "<style scoped>\n",
       "    .dataframe tbody tr th:only-of-type {\n",
       "        vertical-align: middle;\n",
       "    }\n",
       "\n",
       "    .dataframe tbody tr th {\n",
       "        vertical-align: top;\n",
       "    }\n",
       "\n",
       "    .dataframe thead th {\n",
       "        text-align: right;\n",
       "    }\n",
       "</style>\n",
       "<table border=\"1\" class=\"dataframe\">\n",
       "  <thead>\n",
       "    <tr style=\"text-align: right;\">\n",
       "      <th></th>\n",
       "      <th>grp</th>\n",
       "      <th>mean_check</th>\n",
       "      <th>median_check</th>\n",
       "      <th>CR</th>\n",
       "      <th>ARPU</th>\n",
       "      <th>students</th>\n",
       "      <th>clients</th>\n",
       "    </tr>\n",
       "  </thead>\n",
       "  <tbody>\n",
       "    <tr>\n",
       "      <th>0</th>\n",
       "      <td>A</td>\n",
       "      <td>933.589744</td>\n",
       "      <td>585.0</td>\n",
       "      <td>5.071521</td>\n",
       "      <td>4.965903</td>\n",
       "      <td>14664</td>\n",
       "      <td>78</td>\n",
       "    </tr>\n",
       "    <tr>\n",
       "      <th>1</th>\n",
       "      <td>B</td>\n",
       "      <td>1257.878992</td>\n",
       "      <td>1140.0</td>\n",
       "      <td>4.615611</td>\n",
       "      <td>6.609006</td>\n",
       "      <td>59763</td>\n",
       "      <td>314</td>\n",
       "    </tr>\n",
       "  </tbody>\n",
       "</table>\n",
       "</div>"
      ],
      "text/plain": [
       "  grp   mean_check  median_check        CR      ARPU  students  clients\n",
       "0   A   933.589744         585.0  5.071521  4.965903     14664       78\n",
       "1   B  1257.878992        1140.0  4.615611  6.609006     59763      314"
      ]
     },
     "execution_count": 68,
     "metadata": {},
     "output_type": "execute_result"
    }
   ],
   "source": [
    "# объединяем полученные метрики в датафрейм metrics\n",
    "metrics = mean_check_clients.merge(median_check_clients, on = 'grp', how = 'inner')\\\n",
    "            .merge(cr[['grp', 'CR']], on = 'grp', how = 'inner')\\\n",
    "            .merge(arpu[['grp', 'ARPU', 'students']], on = 'grp', how = 'inner')\\\n",
    "            .merge(arppu[['grp', 'clients']], on = 'grp', how = 'inner')\n",
    "metrics"
   ]
  },
  {
   "cell_type": "markdown",
   "metadata": {},
   "source": [
    "Видим, что среднее, медианное значение и ARPU в целевой группе B превышают аналогичные показатели в контрольной группе A.\n",
    "Число пользователей и клиентов в целевой группе так же больше, чем в контрольной.\n",
    "В свою очередь, CR больше в контрольной группе.\n",
    "\n",
    "То есть после изменений все метрики увеличились, а CR уменьшилась.\n",
    "Далее проверим являются ли эти изменения статистически значимыми.\n"
   ]
  },
  {
   "cell_type": "markdown",
   "metadata": {},
   "source": [
    "### Исследование метрик"
   ]
  },
  {
   "cell_type": "markdown",
   "metadata": {},
   "source": [
    "### Гипотеза 1 (о равенстве средних чеков клиентов): \n",
    "- H(0):  нет отличий среднего чека клиентов целевой и контрольной группы\n",
    "- H(1):  средний чек клиентов в целевой группе отличается от среднего чека в контрольной группе"
   ]
  },
  {
   "cell_type": "code",
   "execution_count": 69,
   "metadata": {},
   "outputs": [
    {
     "data": {
      "text/plain": [
       "[Text(0, 0.5, 'Clients'), Text(0.5, 0, 'Revenue')]"
      ]
     },
     "execution_count": 69,
     "metadata": {},
     "output_type": "execute_result"
    },
    {
     "data": {
      "image/png": "[encoded data removed]",
      "text/plain": [
       "<Figure size 432x288 with 1 Axes>"
      ]
     },
     "metadata": {
      "needs_background": "light"
     },
     "output_type": "display_data"
    }
   ],
   "source": [
    "#Посмотрим на график оплат клиентов\n",
    "ax = sns.histplot(data=df_clients, x=\"rev\", hue=\"grp\")\n",
    "ax.set(xlabel='Revenue', ylabel='Clients')"
   ]
  },
  {
   "cell_type": "code",
   "execution_count": 70,
   "metadata": {},
   "outputs": [
    {
     "data": {
      "text/html": [
       "<div>\n",
       "<style scoped>\n",
       "    .dataframe tbody tr th:only-of-type {\n",
       "        vertical-align: middle;\n",
       "    }\n",
       "\n",
       "    .dataframe tbody tr th {\n",
       "        vertical-align: top;\n",
       "    }\n",
       "\n",
       "    .dataframe thead th {\n",
       "        text-align: right;\n",
       "    }\n",
       "</style>\n",
       "<table border=\"1\" class=\"dataframe\">\n",
       "  <thead>\n",
       "    <tr style=\"text-align: right;\">\n",
       "      <th></th>\n",
       "      <th>W</th>\n",
       "      <th>pval</th>\n",
       "      <th>normal</th>\n",
       "    </tr>\n",
       "  </thead>\n",
       "  <tbody>\n",
       "    <tr>\n",
       "      <th>A</th>\n",
       "      <td>30.378420</td>\n",
       "      <td>2.531687e-07</td>\n",
       "      <td>False</td>\n",
       "    </tr>\n",
       "    <tr>\n",
       "      <th>B</th>\n",
       "      <td>6.795663</td>\n",
       "      <td>3.344572e-02</td>\n",
       "      <td>False</td>\n",
       "    </tr>\n",
       "  </tbody>\n",
       "</table>\n",
       "</div>"
      ],
      "text/plain": [
       "           W          pval  normal\n",
       "A  30.378420  2.531687e-07   False\n",
       "B   6.795663  3.344572e-02   False"
      ]
     },
     "execution_count": 70,
     "metadata": {},
     "output_type": "execute_result"
    }
   ],
   "source": [
    "# применим тест Шапиро-Улка, чтобы проверить нормальность распределений\n",
    "pg.normality(data = df_clients, dv = 'rev', group = 'grp', method = 'normaltest')"
   ]
  },
  {
   "cell_type": "markdown",
   "metadata": {},
   "source": [
    "Распределения ненормальные (по графику и по результатам теста), примерно одинаковой формы, за исключением существенного различия в области, где rev = 2000. Различия могут быть обусловлены также тем, что выборка B более многочисленная.\n"
   ]
  },
  {
   "cell_type": "code",
   "execution_count": 71,
   "metadata": {},
   "outputs": [
    {
     "data": {
      "text/html": [
       "<div>\n",
       "<style scoped>\n",
       "    .dataframe tbody tr th:only-of-type {\n",
       "        vertical-align: middle;\n",
       "    }\n",
       "\n",
       "    .dataframe tbody tr th {\n",
       "        vertical-align: top;\n",
       "    }\n",
       "\n",
       "    .dataframe thead th {\n",
       "        text-align: right;\n",
       "    }\n",
       "</style>\n",
       "<table border=\"1\" class=\"dataframe\">\n",
       "  <thead>\n",
       "    <tr style=\"text-align: right;\">\n",
       "      <th></th>\n",
       "      <th>W</th>\n",
       "      <th>pval</th>\n",
       "      <th>equal_var</th>\n",
       "    </tr>\n",
       "  </thead>\n",
       "  <tbody>\n",
       "    <tr>\n",
       "      <th>levene</th>\n",
       "      <td>3.075682</td>\n",
       "      <td>0.080257</td>\n",
       "      <td>True</td>\n",
       "    </tr>\n",
       "  </tbody>\n",
       "</table>\n",
       "</div>"
      ],
      "text/plain": [
       "               W      pval  equal_var\n",
       "levene  3.075682  0.080257       True"
      ]
     },
     "execution_count": 71,
     "metadata": {},
     "output_type": "execute_result"
    }
   ],
   "source": [
    "#проеверяем дисперсии на гомоскедостичность\n",
    "# H0 - дисперсии гомогенны\n",
    "# H1 - дисперсии раличаются\n",
    "pg.homoscedasticity(data = df_clients, dv = 'rev', group = 'grp')"
   ]
  },
  {
   "cell_type": "code",
   "execution_count": 72,
   "metadata": {},
   "outputs": [
    {
     "data": {
      "text/plain": [
       "[Text(0, 0.5, 'Revenue'), Text(0.5, 0, 'Group')]"
      ]
     },
     "execution_count": 72,
     "metadata": {},
     "output_type": "execute_result"
    },
    {
     "data": {
      "image/png": "[encoded data removed]",
      "text/plain": [
       "<Figure size 432x288 with 1 Axes>"
      ]
     },
     "metadata": {
      "needs_background": "light"
     },
     "output_type": "display_data"
    }
   ],
   "source": [
    "ax = sns.boxplot(data = df_clients, x = 'grp', y = 'rev')\n",
    "ax.set(xlabel = 'Group', ylabel = 'Revenue')"
   ]
  },
  {
   "cell_type": "markdown",
   "metadata": {},
   "source": [
    "pvalue > 0.05, не можем отклонить нулевую гипотезу о гомогенности дисперсий.\n",
    "Т.e. предполагаем, что дисперсии равны (equal_var = True)"
   ]
  },
  {
   "cell_type": "markdown",
   "metadata": {},
   "source": [
    "Для сравнения средних t-тест может быть использован и при ненормальном распределении, особенно на больших выборках, \n",
    "и если в данных нет заметных выбросов. \n",
    "В нашем случае выборки большие, а по поводу выбросов - подозрительным являются клиенты, у которых оплаты на \n",
    "сумму около 2000. На данный момент мы не можем утверждать, является ли это выбросом."
   ]
  },
  {
   "cell_type": "code",
   "execution_count": 75,
   "metadata": {},
   "outputs": [
    {
     "data": {
      "text/plain": [
       "Ttest_indResult(statistic=-3.1337795050930985, pvalue=0.0018562025265765867)"
      ]
     },
     "execution_count": 75,
     "metadata": {},
     "output_type": "execute_result"
    }
   ],
   "source": [
    "# так как дисперсии равны - используем для проверки нулевой гипотезы t-тест Стьюдента\n",
    "ttest_ind(df_clients[df_clients.grp == 'A'].rev, df_clients[df_clients.grp == 'B'].rev)"
   ]
  },
  {
   "cell_type": "markdown",
   "metadata": {},
   "source": [
    "Так как pvalue < 0.05 - отклоняем нулевую гипотезу о равенстве средних чеков клиентов в группах.\n",
    "\n",
    "Что говорит о том, что различия средних чеков клиентов являются статистически значимыми."
   ]
  },
  {
   "cell_type": "markdown",
   "metadata": {},
   "source": [
    "### Гипотеза 2 (о равенстве конверсий (CR)): \n",
    "- H(0):  нет отличий CR целевой и контрольной группы\n",
    "- H(1):  CR в целевой группе отличается от CR в контрольной группе"
   ]
  },
  {
   "cell_type": "markdown",
   "metadata": {},
   "source": [
    "Так как конверсия в покупку является категориальной переменной и размер целевой группы в 4.4 раза превышает размер контрольной группы, то для проверки различий конверсий на статзначимость используем критерий хи-квадрат."
   ]
  },
  {
   "cell_type": "code",
   "execution_count": 77,
   "metadata": {},
   "outputs": [],
   "source": [
    "ab = df_was_on_platform.copy()\n",
    "ab['rev'] = ab.rev.astype(int)\n",
    "ab['is_converted'] = ab.rev.apply(lambda x: 1 if x != 0 else 0)"
   ]
  },
  {
   "cell_type": "code",
   "execution_count": 78,
   "metadata": {},
   "outputs": [],
   "source": [
    "# преобразуем данные в таблицу сопряженности\n",
    "# разделим данные на два отдельных датафрейма\n",
    "a = ab[ab['grp'] == 'A']\n",
    "b = ab[ab['grp'] == 'B']\n",
    "\n",
    "# A-purchase, A-nopurchase, B-purchase, B-nopurchase\n",
    "a_purchase = a.is_converted.sum()\n",
    "\n",
    "a_nopurchase = a.is_converted.size - a.is_converted.sum()\n",
    "b_purchase = b.is_converted.sum()\n",
    "b_nopurchase = b.is_converted.size - b.is_converted.sum()\n",
    "\n",
    "# создаем массив\n",
    "T = np.array([[a_purchase, a_nopurchase], [b_purchase, b_nopurchase]])"
   ]
  },
  {
   "cell_type": "code",
   "execution_count": 79,
   "metadata": {},
   "outputs": [
    {
     "data": {
      "text/plain": [
       "0.44547028437158964"
      ]
     },
     "execution_count": 79,
     "metadata": {},
     "output_type": "execute_result"
    }
   ],
   "source": [
    "#используем критерий хи-квадрат, вычисляем pvalue\n",
    "ss.chi2_contingency(T,correction=False)[1]"
   ]
  },
  {
   "cell_type": "markdown",
   "metadata": {},
   "source": [
    "pvalue > 0.05, мы не отвергаем нулевую гипотезу о равенстве конверсий.\n",
    "\n",
    "Различия в конверсиях контрольной и целевой группы не являются статистически значимыми."
   ]
  },
  {
   "cell_type": "markdown",
   "metadata": {},
   "source": [
    "### Гипотеза 3 (о равенстве ARPU):\n",
    "- H(0): нет отличий ARPU целевой и контрольной группы\n",
    "- H(1): ARPU в целевой группе отличается от ARPU в контрольной группе"
   ]
  },
  {
   "cell_type": "markdown",
   "metadata": {},
   "source": [
    "Как было упомянуто ранее, так как у нас каждый пользователь совершил одну оплату, то в данном случае ARPU равняется \n",
    "среднему чеку для всех пользователей (без учета исключенных - student_id_to_drop)"
   ]
  },
  {
   "cell_type": "code",
   "execution_count": 71,
   "metadata": {},
   "outputs": [
    {
     "data": {
      "text/plain": [
       "[Text(0, 0.5, 'Clients'), Text(0.5, 0, 'Revenue')]"
      ]
     },
     "execution_count": 71,
     "metadata": {},
     "output_type": "execute_result"
    },
    {
     "data": {
      "image/png": "[encoded data removed]",
      "text/plain": [
       "<Figure size 432x288 with 1 Axes>"
      ]
     },
     "metadata": {
      "needs_background": "light"
     },
     "output_type": "display_data"
    }
   ],
   "source": [
    "#Посмотрим на график оплат пользователей\n",
    "ax = sns.histplot(data=df_new, x=\"rev\", hue=\"grp\")\n",
    "ax.set(xlabel='Revenue', ylabel='Clients')"
   ]
  },
  {
   "cell_type": "code",
   "execution_count": 72,
   "metadata": {},
   "outputs": [
    {
     "data": {
      "text/html": [
       "<div>\n",
       "<style scoped>\n",
       "    .dataframe tbody tr th:only-of-type {\n",
       "        vertical-align: middle;\n",
       "    }\n",
       "\n",
       "    .dataframe tbody tr th {\n",
       "        vertical-align: top;\n",
       "    }\n",
       "\n",
       "    .dataframe thead th {\n",
       "        text-align: right;\n",
       "    }\n",
       "</style>\n",
       "<table border=\"1\" class=\"dataframe\">\n",
       "  <thead>\n",
       "    <tr style=\"text-align: right;\">\n",
       "      <th></th>\n",
       "      <th>W</th>\n",
       "      <th>pval</th>\n",
       "      <th>normal</th>\n",
       "    </tr>\n",
       "  </thead>\n",
       "  <tbody>\n",
       "    <tr>\n",
       "      <th>B</th>\n",
       "      <td>126827.739067</td>\n",
       "      <td>0.0</td>\n",
       "      <td>False</td>\n",
       "    </tr>\n",
       "    <tr>\n",
       "      <th>A</th>\n",
       "      <td>36485.340954</td>\n",
       "      <td>0.0</td>\n",
       "      <td>False</td>\n",
       "    </tr>\n",
       "  </tbody>\n",
       "</table>\n",
       "</div>"
      ],
      "text/plain": [
       "               W  pval  normal\n",
       "B  126827.739067   0.0   False\n",
       "A   36485.340954   0.0   False"
      ]
     },
     "execution_count": 72,
     "metadata": {},
     "output_type": "execute_result"
    }
   ],
   "source": [
    "# применим тест Шапиро-Улка, чтобы проверить нормальность распределений\n",
    "pg.normality(data = df_new, dv = 'rev', group = 'grp', method = 'normaltest')"
   ]
  },
  {
   "cell_type": "markdown",
   "metadata": {},
   "source": [
    "тест показал ненормальность распределений"
   ]
  },
  {
   "cell_type": "code",
   "execution_count": 73,
   "metadata": {},
   "outputs": [
    {
     "data": {
      "text/html": [
       "<div>\n",
       "<style scoped>\n",
       "    .dataframe tbody tr th:only-of-type {\n",
       "        vertical-align: middle;\n",
       "    }\n",
       "\n",
       "    .dataframe tbody tr th {\n",
       "        vertical-align: top;\n",
       "    }\n",
       "\n",
       "    .dataframe thead th {\n",
       "        text-align: right;\n",
       "    }\n",
       "</style>\n",
       "<table border=\"1\" class=\"dataframe\">\n",
       "  <thead>\n",
       "    <tr style=\"text-align: right;\">\n",
       "      <th></th>\n",
       "      <th>W</th>\n",
       "      <th>pval</th>\n",
       "      <th>equal_var</th>\n",
       "    </tr>\n",
       "  </thead>\n",
       "  <tbody>\n",
       "    <tr>\n",
       "      <th>levene</th>\n",
       "      <td>2.875551</td>\n",
       "      <td>0.089938</td>\n",
       "      <td>True</td>\n",
       "    </tr>\n",
       "  </tbody>\n",
       "</table>\n",
       "</div>"
      ],
      "text/plain": [
       "               W      pval  equal_var\n",
       "levene  2.875551  0.089938       True"
      ]
     },
     "execution_count": 73,
     "metadata": {},
     "output_type": "execute_result"
    }
   ],
   "source": [
    "#проеверяем дисперсии на гомоскедостичность\n",
    "# H0 - дисперсии гомогенны\n",
    "# H1 - дисперсии раличаются\n",
    "pg.homoscedasticity(data = df_new, dv = 'rev', group = 'grp')"
   ]
  },
  {
   "cell_type": "code",
   "execution_count": 74,
   "metadata": {},
   "outputs": [
    {
     "data": {
      "text/plain": [
       "[Text(0, 0.5, 'Revenue'), Text(0.5, 0, 'Group')]"
      ]
     },
     "execution_count": 74,
     "metadata": {},
     "output_type": "execute_result"
    },
    {
     "data": {
      "image/png": "[encoded data removed]",
      "text/plain": [
       "<Figure size 432x288 with 1 Axes>"
      ]
     },
     "metadata": {
      "needs_background": "light"
     },
     "output_type": "display_data"
    }
   ],
   "source": [
    "ax = sns.boxplot(data = df_new, x = 'grp', y = 'rev')\n",
    "ax.set(xlabel = 'Group', ylabel = 'Revenue')"
   ]
  },
  {
   "cell_type": "markdown",
   "metadata": {},
   "source": [
    "pvalue > 0.05, не можем отклонить нулевую гипотезу о гомогенности дисперсий. \n",
    "Т.e. предполагаем, что дисперсии равны (equal_var = True)"
   ]
  },
  {
   "cell_type": "code",
   "execution_count": 75,
   "metadata": {},
   "outputs": [
    {
     "data": {
      "text/plain": [
       "Ttest_indResult(statistic=-1.6957451114158482, pvalue=0.08993834382409223)"
      ]
     },
     "execution_count": 75,
     "metadata": {},
     "output_type": "execute_result"
    }
   ],
   "source": [
    "# так как дисперсии равны - используем для проверки нулевой гипотезы t-тест Стьюдента\n",
    "ttest_ind(df_new[df_new.grp == 'A'].rev, df_new[df_new.grp == 'B'].rev)"
   ]
  },
  {
   "cell_type": "markdown",
   "metadata": {},
   "source": [
    "Так как pvalue > 0.05 - не отклоняем нулевую гипотезу о равенстве средних чеков в группах.\n",
    "\n",
    "Что говорит о том, что различия средних чеков пользователей в целевой группе по сравнению с контрольной не являются статистически значимыми."
   ]
  },
  {
   "cell_type": "markdown",
   "metadata": {},
   "source": [
    "### Стоит ли запускать новую механику на всех пользователей?"
   ]
  },
  {
   "cell_type": "markdown",
   "metadata": {},
   "source": [
    "Средний чек клиента статистически значимо увеличился.\n",
    "\n",
    "Конверсия (CR) упала, различия не статзначимы.\n",
    "Средний чек пользователя (он же в нашем случае ARPU) увеличился, но не статзначимо.\n",
    "\n",
    "Подозрительным моментом остается увеличение числа пользователей с оплатами на сумму окoло 2000, \n",
    "это скорее всего и повлияло на увеличение среднего чека клиента.\n",
    "\n",
    "Возможно, что-то произошло со системой сплитования трафика, учитывая тот факт, что размер наших выборок \n",
    "существенно различается.\n",
    "\n",
    "На мой взгляд, основываясь на данных результатах запускать новую механику нецелесообразно, так как не совсем поняно, \n",
    "что повлияло на увеличение средних чеков клиентов на сумму около 2000."
   ]
  },
  {
   "cell_type": "markdown",
   "metadata": {},
   "source": [
    "## Задание 2. SQL\n",
    "### 2.1 Очень усердные ученики.\n",
    "\n",
    "### 2.1.1 Условие\n",
    "\n",
    "Образовательные курсы состоят из различных уроков, каждый из которых состоит из нескольких маленьких заданий. Каждое такое маленькое задание называется \"горошиной\".\n",
    "\n",
    "Назовём очень усердным учеником того пользователя, который хотя бы раз за текущий месяц правильно решил 20 горошин."
   ]
  },
  {
   "cell_type": "markdown",
   "metadata": {},
   "source": [
    "### 2.1.2 Задача\n",
    "\n",
    "Дана таблица default.peas"
   ]
  },
  {
   "cell_type": "markdown",
   "metadata": {},
   "source": [
    "| Название атрибута | Тип атрибута | Смысловое значение |\n",
    "| --- | --- | --- |\n",
    "| st_id | int | ID ученика |\n",
    "| timest | timestamp | Время решения карточки |\n",
    "| correct | bool | Правильно ли решена горошина? |\n",
    "| subject | text | Дисциплина, в которой находится горошина |"
   ]
  },
  {
   "cell_type": "markdown",
   "metadata": {},
   "source": [
    "Необходимо написать оптимальный запрос, который даст информацию о количестве очень усердных студентов.NB! Под усердным студентом мы понимаем студента, который правильно решил 20 задач за текущий месяц."
   ]
  },
  {
   "cell_type": "code",
   "execution_count": 80,
   "metadata": {},
   "outputs": [],
   "source": [
    "import pandahouse as ph"
   ]
  },
  {
   "cell_type": "code",
   "execution_count": 81,
   "metadata": {},
   "outputs": [],
   "source": [
    "# создаем словарь для подключения к default\n",
    "connection_default = {'host': 'https://clickhouse.lab.karpov.courses',\n",
    "                      'database':'default',\n",
    "                      'user':'student', \n",
    "                      'password':'dpo_python_2020'}"
   ]
  },
  {
   "cell_type": "code",
   "execution_count": 82,
   "metadata": {},
   "outputs": [
    {
     "data": {
      "text/html": [
       "<div>\n",
       "<style scoped>\n",
       "    .dataframe tbody tr th:only-of-type {\n",
       "        vertical-align: middle;\n",
       "    }\n",
       "\n",
       "    .dataframe tbody tr th {\n",
       "        vertical-align: top;\n",
       "    }\n",
       "\n",
       "    .dataframe thead th {\n",
       "        text-align: right;\n",
       "    }\n",
       "</style>\n",
       "<table border=\"1\" class=\"dataframe\">\n",
       "  <thead>\n",
       "    <tr style=\"text-align: right;\">\n",
       "      <th></th>\n",
       "      <th>diligent_students</th>\n",
       "    </tr>\n",
       "  </thead>\n",
       "  <tbody>\n",
       "    <tr>\n",
       "      <th>0</th>\n",
       "      <td>136</td>\n",
       "    </tr>\n",
       "  </tbody>\n",
       "</table>\n",
       "</div>"
      ],
      "text/plain": [
       "   diligent_students\n",
       "0                136"
      ]
     },
     "execution_count": 82,
     "metadata": {},
     "output_type": "execute_result"
    }
   ],
   "source": [
    "#количество очень усердных студентов\n",
    "query = \"\"\"\n",
    "SELECT uniqExact(st_id) as diligent_students\n",
    "FROM\n",
    "    (SELECT st_id, count(st_id) as tasks_solved\n",
    "        FROM default.peas\n",
    "        WHERE correct = 1\n",
    "        GROUP BY st_id\n",
    "        HAVING tasks_solved >= 20) students_and_tasks_solved\n",
    "\"\"\"\n",
    "default_peas = ph.read_clickhouse(query, connection=connection_default)\n",
    "default_peas\n",
    "\n",
    "#количество очень усердных учеников - 136"
   ]
  },
  {
   "cell_type": "markdown",
   "metadata": {},
   "source": [
    "### 2.2 Оптимизация воронки\n",
    "\n",
    "### 2.2.1 Условие\n",
    "\n",
    "Образовательная платформа предлагает пройти студентам курсы по модели trial: студент может решить бесплатно лишь 30 горошин в день. Для неограниченного количества заданий в определенной дисциплине студенту необходимо приобрести полный доступ. Команда провела эксперимент, где был протестирован новый экран оплаты.\n",
    "\n",
    "### 2.2.2 Задача\n",
    "\n",
    "Дана таблицы: default.peas (см. выше), default.studs:"
   ]
  },
  {
   "cell_type": "markdown",
   "metadata": {},
   "source": [
    "| Название атрибута | Тип атрибута | Смысловое значение |\n",
    "| --- | --- | --- |\n",
    "| st_id | int | ID ученика |\n",
    "| test_grp | text | Метка ученика в данном эксперименте |\n"
   ]
  },
  {
   "cell_type": "markdown",
   "metadata": {},
   "source": [
    "и default.final_project_check:"
   ]
  },
  {
   "cell_type": "markdown",
   "metadata": {},
   "source": [
    "| Название атрибута | Тип атрибута | Смысловое значение |\n",
    "| --- | --- | --- |\n",
    "| st_id | int | ID ученика |\n",
    "| sale_time | timestamp | Время покупки |\n",
    "| money | int | Цена, по которой приобрели данный курс |\n",
    "| subject | text|  |\n"
   ]
  },
  {
   "cell_type": "markdown",
   "metadata": {},
   "source": [
    "Необходимо в одном запросе выгрузить следующую информацию о группах пользователей:\n",
    "\n",
    "·ARPU \n",
    "\n",
    "·ARPAU \n",
    "\n",
    "·CR в покупку \n",
    "\n",
    "·СR активного пользователя в покупку \n",
    "\n",
    "·CR пользователя из активности по математике (subject = ’math’) в покупку курса по математике\n",
    "\n",
    "·ARPU считается относительно всех пользователей, попавших в группы.\n",
    "\n",
    "\n",
    "Активным считается пользователь, за все время решивший больше 10 задач правильно в любых дисциплинах.\n",
    "\n",
    "Активным по математике считается пользователь, за все время решивший 2 или больше задач правильно по математике."
   ]
  },
  {
   "cell_type": "markdown",
   "metadata": {},
   "source": [
    "Все данные находятся в табличном виде в ClickHouse"
   ]
  },
  {
   "cell_type": "markdown",
   "metadata": {},
   "source": [
    "#### Пояснение расчета метрик:\n",
    "ARPU = сумма покупок / кол-во пользователей\n",
    "\n",
    "ARPAU = сумма покупок / кол-во активных пользователей\n",
    "\n",
    "CR в покупку = число покупок / кол-во действий (пользователей)\n",
    "\n",
    "СR активного пользователя в покупку = число покупок активных польз-лей / кол-во действий (активных ползователей)\n",
    "\n",
    "CR пользователя из активности по математике в покупку курса по математике = число покупок курсов математики активных польз-лей по математике/ кол-во действий (активных ползователей по математике)\n",
    "\n",
    "\n"
   ]
  },
  {
   "cell_type": "code",
   "execution_count": 83,
   "metadata": {},
   "outputs": [
    {
     "data": {
      "text/html": [
       "<div>\n",
       "<style scoped>\n",
       "    .dataframe tbody tr th:only-of-type {\n",
       "        vertical-align: middle;\n",
       "    }\n",
       "\n",
       "    .dataframe tbody tr th {\n",
       "        vertical-align: top;\n",
       "    }\n",
       "\n",
       "    .dataframe thead th {\n",
       "        text-align: right;\n",
       "    }\n",
       "</style>\n",
       "<table border=\"1\" class=\"dataframe\">\n",
       "  <thead>\n",
       "    <tr style=\"text-align: right;\">\n",
       "      <th></th>\n",
       "      <th>test_grp</th>\n",
       "      <th>ARPU</th>\n",
       "      <th>ARPAU</th>\n",
       "      <th>CR_percent</th>\n",
       "      <th>CR_percent_active</th>\n",
       "      <th>CR_percent_math_active</th>\n",
       "    </tr>\n",
       "  </thead>\n",
       "  <tbody>\n",
       "    <tr>\n",
       "      <th>0</th>\n",
       "      <td>control</td>\n",
       "      <td>4540.983607</td>\n",
       "      <td>10393.700787</td>\n",
       "      <td>4.918033</td>\n",
       "      <td>11.023622</td>\n",
       "      <td>6.122449</td>\n",
       "    </tr>\n",
       "    <tr>\n",
       "      <th>1</th>\n",
       "      <td>pilot</td>\n",
       "      <td>11508.474576</td>\n",
       "      <td>29739.583333</td>\n",
       "      <td>10.847458</td>\n",
       "      <td>26.041667</td>\n",
       "      <td>9.523810</td>\n",
       "    </tr>\n",
       "  </tbody>\n",
       "</table>\n",
       "</div>"
      ],
      "text/plain": [
       "  test_grp          ARPU         ARPAU  CR_percent  CR_percent_active  \\\n",
       "0  control   4540.983607  10393.700787    4.918033          11.023622   \n",
       "1    pilot  11508.474576  29739.583333   10.847458          26.041667   \n",
       "\n",
       "   CR_percent_math_active  \n",
       "0                6.122449  \n",
       "1                9.523810  "
      ]
     },
     "execution_count": 83,
     "metadata": {},
     "output_type": "execute_result"
    }
   ],
   "source": [
    "query_1 = \"\"\"\n",
    "WITH active_students as (SELECT  st_id,                                \n",
    "                            CASE WHEN st_id in                         --кодируем активных пользователей\n",
    "                            (SELECT DISTINCT st_id                     --активные пользователи\n",
    "                            FROM default.peas\n",
    "                            WHERE correct = 1\n",
    "                            GROUP BY st_id\n",
    "                            HAVING count(st_id) > 10) then 1\n",
    "                            ELSE 0\n",
    "                            END as is_active_student\n",
    "                            FROM default.studs),\n",
    "        \n",
    "math_active_students as (SELECT st_id,\n",
    "                            CASE WHEN st_id in                          --кодируем активных пользователей по математике\n",
    "                            (SELECT DISTINCT st_id                      --активные пользователи по математике\n",
    "                            FROM default.peas\n",
    "                            WHERE subject in 'Math' and correct = 1\n",
    "                            GROUP BY st_id, subject\n",
    "                            HAVING count(st_id) >= 2) then 1\n",
    "                            ELSE 0\n",
    "                            END as is_math_active_student\n",
    "                            FROM default.studs),\n",
    "                                \n",
    "total_table as (SELECT test_grp, a.st_id, is_active_student, is_math_active_student, money_sum, money_sum_math\n",
    "                    FROM active_students a\n",
    "                    INNER JOIN math_active_students ma\n",
    "                    ON a.st_id = ma.st_id\n",
    "                    LEFT JOIN default.studs b\n",
    "                    ON a.st_id = b.st_id\n",
    "                    LEFT JOIN (SELECT st_id, sum(money) as money_sum, \n",
    "                                sum(money) FILTER(WHERE subject = 'Math') as money_sum_math\n",
    "                                FROM default.final_project_check\n",
    "                                GROUP BY st_id) c\n",
    "                    ON a.st_id = c.st_id)\n",
    "\n",
    "SELECT \n",
    "        test_grp,\n",
    "        SUM(money_sum)/count((is_active_student)) as ARPU,\n",
    "        SUM(money_sum) FILTER(WHERE is_active_student = 1)/SUM((is_active_student)) as ARPAU,\n",
    "        COUNT(money_sum) FILTER(WHERE money_sum != 0)/COUNT(a.st_id) *100 as CR_percent,\n",
    "        COUNT(money_sum) FILTER(WHERE is_active_student = 1 and money_sum != 0)/ \n",
    "                        SUM(is_active_student) * 100 as CR_percent_active,\n",
    "        COUNT(money_sum_math) FILTER(WHERE is_math_active_student = 1 and money_sum_math != 0)/\n",
    "                        SUM(is_math_active_student) * 100 as  CR_percent_math_active\n",
    "        \n",
    "FROM total_table\n",
    "GROUP BY test_grp\n",
    "\"\"\"\n",
    "SQL_metrics = ph.read_clickhouse(query_1, connection=connection_default)\n",
    "SQL_metrics"
   ]
  },
  {
   "cell_type": "markdown",
   "metadata": {},
   "source": [
    "### Задание 3. Python\n",
    "### 3.1 Задача\n",
    "\n",
    "Реализуйте функцию, которая будет автоматически подгружать информацию из дополнительного файла groups_add.csv (заголовки могут отличаться) и на основании дополнительных параметров пересчитывать метрики.\n",
    "Реализуйте функцию, которая будет строить графики по получаемым метрикам."
   ]
  },
  {
   "cell_type": "code",
   "execution_count": 92,
   "metadata": {},
   "outputs": [],
   "source": [
    "#ссылки на данные\n",
    "groups_public_key = 'https://disk.yandex.ru/d/UhyYx41rTt3clQ'\n",
    "active_studs_public_key = 'https://disk.yandex.ru/d/Tbs44Bm6H_FwFQ'\n",
    "checks_public_key = 'https://disk.yandex.ru/d/pH1q-VqcxXjsVA'\n",
    "groups_add_public_key = 'https://disk.yandex.ru/d/5Kxrz02m3IBUwQ'    #добавляем"
   ]
  },
  {
   "cell_type": "code",
   "execution_count": 93,
   "metadata": {},
   "outputs": [],
   "source": [
    "#функция загрузки данных с Яндекс Диск через API \n",
    "def get_data_api(public_key):\n",
    "    base_url = 'https://cloud-api.yandex.net/v1/disk/public/resources/download?'\n",
    "    \n",
    "    # получаем url \n",
    "    final_url = base_url + urlencode(dict(public_key=public_key))\n",
    "    response = requests.get(final_url)\n",
    "    download_url = response.json()['href']\n",
    "    \n",
    "    download_response = requests.get(download_url)\n",
    "    \n",
    "    return download_url"
   ]
  },
  {
   "cell_type": "code",
   "execution_count": 94,
   "metadata": {},
   "outputs": [],
   "source": [
    "#определяем функцию, которая считает метрики, куда можно добавить файл с дополнительными данными для пересчета\n",
    "def calculate_metrics():\n",
    "    groups = pd.read_csv(get_data_api(groups_public_key), sep = ';').rename(columns = {'id': 'student_id'})\n",
    "    active_studs = pd.read_csv(get_data_api(active_studs_public_key))\n",
    "    checks = pd.read_csv(get_data_api(checks_public_key), sep = ';')\n",
    "    groups_add = pd.read_csv(get_data_api(groups_add_public_key), sep = ',')\\\n",
    "                    .rename(columns = {'id': 'student_id'})                     #добавляем\n",
    "    \n",
    "    groups = groups.merge(groups_add, on = ['student_id', 'grp'], how = 'outer') #добавляем\n",
    "    \n",
    "    groups_ckecks = groups.merge(checks, on = 'student_id', how = 'left')\n",
    "\n",
    "    active_studs['was_on_platform'] = 1\n",
    "    df = groups_ckecks.merge(active_studs, on ='student_id', how = 'left').drop_duplicates()\n",
    "    df['was_on_platform'] = df.was_on_platform.fillna(0)\n",
    "    \n",
    "    student_id_to_drop = df[~df['rev'].isna()].query(\"was_on_platform == 0\").student_id\n",
    "    \n",
    "    df_new = df.query(\"student_id not in @student_id_to_drop\") \n",
    "    df_new['rev'] = df_new.rev.fillna(0)\n",
    "    \n",
    "    df_was_on_platform = df_new.query(\"was_on_platform == 1\")\n",
    "    \n",
    "    df_clients = df_was_on_platform.query(\"rev != 0\")\n",
    "    \n",
    "    #средний чек клиента для обеих групп\n",
    "    mean_check_clients = df_clients.groupby('grp', as_index = False)\\\n",
    "                                .agg({'rev': 'mean'})\\\n",
    "                                .rename(columns = {'rev': 'mean_check'})\n",
    "    \n",
    "    # CR(%) для каждой группы\n",
    "    #число покупок(оплат) для обеих групп \n",
    "    purchases = df_clients\\\n",
    "                    .groupby('grp', as_index = False).agg({'student_id': 'count'})\\\n",
    "                    .rename(columns = {'student_id': 'purchases'})\n",
    "    #число кликов(показов) для обеих групп\n",
    "    clicks = df_was_on_platform.groupby('grp', as_index = False)\\\n",
    "                .agg({'student_id': 'count'})\\\n",
    "                .rename(columns = {'student_id': 'clicks'})\n",
    "    # рассчитываем CR(%)\n",
    "    cr = purchases.merge(clicks, on = 'grp', how = 'inner')\n",
    "    cr['CR'] = cr.purchases / cr.clicks *100\n",
    "    \n",
    "    # ARPU для обеих групп\n",
    "    #выручка для обеих групп\n",
    "    sum_rev = df_clients.groupby('grp', as_index = False)\\\n",
    "               .agg({'rev': 'sum'})\\\n",
    "               .rename(columns = {'rev': 'sum_revenue'}) \n",
    "    #количество пользователей считаем по общей таблице df_new (без учета исключенных пользователей)\n",
    "    students = df_new.groupby('grp', as_index = False)\\\n",
    "        .agg({'student_id': 'nunique'})\\\n",
    "        .rename(columns = {'student_id': 'students'}) \n",
    "    # рассчитываем ARPU\n",
    "    arpu = sum_rev.merge(students, on = 'grp', how = 'inner')\n",
    "    arpu['ARPU'] = arpu.sum_revenue / arpu.students \n",
    "    \n",
    "    # ARPPU для обеих групп\n",
    "    arppu = sum_rev.merge(purchases, on = 'grp', how = 'inner').rename(columns = {'purchases': 'clients'})\n",
    "    arppu['ARPPU'] = arppu.sum_revenue / arppu.clients\n",
    "    \n",
    "    # объединяем полученные метрики в датафрейм metrics\n",
    "    metrics = mean_check_clients\\\n",
    "            .merge(cr[['grp', 'CR']], on = 'grp', how = 'inner')\\\n",
    "            .merge(arpu[['grp', 'ARPU']], on = 'grp', how = 'inner')\\\n",
    "            .merge(arppu[['grp', 'ARPPU']], on = 'grp', how = 'inner')\n",
    "    return metrics"
   ]
  },
  {
   "cell_type": "code",
   "execution_count": 95,
   "metadata": {},
   "outputs": [
    {
     "name": "stderr",
     "output_type": "stream",
     "text": [
      "/opt/tljh/user/lib/python3.7/site-packages/ipykernel_launcher.py:20: SettingWithCopyWarning: \n",
      "A value is trying to be set on a copy of a slice from a DataFrame.\n",
      "Try using .loc[row_indexer,col_indexer] = value instead\n",
      "\n",
      "See the caveats in the documentation: https://pandas.pydata.org/pandas-docs/stable/user_guide/indexing.html#returning-a-view-versus-a-copy\n"
     ]
    },
    {
     "data": {
      "text/html": [
       "<div>\n",
       "<style scoped>\n",
       "    .dataframe tbody tr th:only-of-type {\n",
       "        vertical-align: middle;\n",
       "    }\n",
       "\n",
       "    .dataframe tbody tr th {\n",
       "        vertical-align: top;\n",
       "    }\n",
       "\n",
       "    .dataframe thead th {\n",
       "        text-align: right;\n",
       "    }\n",
       "</style>\n",
       "<table border=\"1\" class=\"dataframe\">\n",
       "  <thead>\n",
       "    <tr style=\"text-align: right;\">\n",
       "      <th></th>\n",
       "      <th>grp</th>\n",
       "      <th>mean_check</th>\n",
       "      <th>CR</th>\n",
       "      <th>ARPU</th>\n",
       "      <th>ARPPU</th>\n",
       "    </tr>\n",
       "  </thead>\n",
       "  <tbody>\n",
       "    <tr>\n",
       "      <th>0</th>\n",
       "      <td>A</td>\n",
       "      <td>933.589744</td>\n",
       "      <td>5.071521</td>\n",
       "      <td>4.965903</td>\n",
       "      <td>933.589744</td>\n",
       "    </tr>\n",
       "    <tr>\n",
       "      <th>1</th>\n",
       "      <td>B</td>\n",
       "      <td>1257.878992</td>\n",
       "      <td>4.615611</td>\n",
       "      <td>6.609006</td>\n",
       "      <td>1257.878992</td>\n",
       "    </tr>\n",
       "  </tbody>\n",
       "</table>\n",
       "</div>"
      ],
      "text/plain": [
       "  grp   mean_check        CR      ARPU        ARPPU\n",
       "0   A   933.589744  5.071521  4.965903   933.589744\n",
       "1   B  1257.878992  4.615611  6.609006  1257.878992"
      ]
     },
     "execution_count": 95,
     "metadata": {},
     "output_type": "execute_result"
    }
   ],
   "source": [
    "calculate_metrics()"
   ]
  },
  {
   "cell_type": "markdown",
   "metadata": {},
   "source": [
    "### Функция, которая будет строить графики по получаемым метрикам"
   ]
  },
  {
   "cell_type": "code",
   "execution_count": 96,
   "metadata": {},
   "outputs": [],
   "source": [
    "def build_plot():\n",
    "    fig,axes = plt.subplots(nrows = 1, ncols = 4, figsize=(25, 6))\n",
    "\n",
    "    ax_1 = sns.barplot(data = calculate_metrics(), x = 'grp', y='mean_check', ax = axes[0])\n",
    "    ax_1.set_xlabel('group')\n",
    "    ax_1.set_ylabel('')\n",
    "    ax_1.set_title('Mean check', fontsize=20)\n",
    "\n",
    "    ax_2 = sns.barplot(data = calculate_metrics(), x = 'grp', y='CR', ax = axes[1])\n",
    "    ax_2.set_xlabel('group')\n",
    "    ax_2.set_ylabel('')\n",
    "    ax_2.set_title('CR(%)', fontsize=20)\n",
    "\n",
    "    ax_3 = sns.barplot(data = calculate_metrics(), x = 'grp', y='ARPU', ax = axes[2])\n",
    "    ax_3.set_xlabel('group')\n",
    "    ax_3.set_ylabel('')\n",
    "    ax_3.set_title('ARPU', fontsize=20)\n",
    "\n",
    "    ax_4 = sns.barplot(data = calculate_metrics(), x = 'grp', y='ARPPU', ax = axes[3])\n",
    "    ax_4.set_xlabel('group')\n",
    "    ax_4.set_ylabel('')\n",
    "    ax_4.set_title('ARPPU', fontsize=20)\n",
    "\n",
    "    sns.despine()"
   ]
  },
  {
   "cell_type": "code",
   "execution_count": 97,
   "metadata": {},
   "outputs": [
    {
     "name": "stderr",
     "output_type": "stream",
     "text": [
      "/opt/tljh/user/lib/python3.7/site-packages/ipykernel_launcher.py:20: SettingWithCopyWarning: \n",
      "A value is trying to be set on a copy of a slice from a DataFrame.\n",
      "Try using .loc[row_indexer,col_indexer] = value instead\n",
      "\n",
      "See the caveats in the documentation: https://pandas.pydata.org/pandas-docs/stable/user_guide/indexing.html#returning-a-view-versus-a-copy\n",
      "/opt/tljh/user/lib/python3.7/site-packages/ipykernel_launcher.py:20: SettingWithCopyWarning: \n",
      "A value is trying to be set on a copy of a slice from a DataFrame.\n",
      "Try using .loc[row_indexer,col_indexer] = value instead\n",
      "\n",
      "See the caveats in the documentation: https://pandas.pydata.org/pandas-docs/stable/user_guide/indexing.html#returning-a-view-versus-a-copy\n",
      "/opt/tljh/user/lib/python3.7/site-packages/ipykernel_launcher.py:20: SettingWithCopyWarning: \n",
      "A value is trying to be set on a copy of a slice from a DataFrame.\n",
      "Try using .loc[row_indexer,col_indexer] = value instead\n",
      "\n",
      "See the caveats in the documentation: https://pandas.pydata.org/pandas-docs/stable/user_guide/indexing.html#returning-a-view-versus-a-copy\n",
      "/opt/tljh/user/lib/python3.7/site-packages/ipykernel_launcher.py:20: SettingWithCopyWarning: \n",
      "A value is trying to be set on a copy of a slice from a DataFrame.\n",
      "Try using .loc[row_indexer,col_indexer] = value instead\n",
      "\n",
      "See the caveats in the documentation: https://pandas.pydata.org/pandas-docs/stable/user_guide/indexing.html#returning-a-view-versus-a-copy\n"
     ]
    },
    {
     "data": {
      "image/png": "[encoded data removed]",
      "text/plain": [
       "<Figure size 1800x432 with 4 Axes>"
      ]
     },
     "metadata": {
      "needs_background": "light"
     },
     "output_type": "display_data"
    }
   ],
   "source": [
    "build_plot()"
   ]
  },
  {
   "cell_type": "code",
   "execution_count": null,
   "metadata": {},
   "outputs": [],
   "source": []
  }
 ],
 "metadata": {
  "kernelspec": {
   "display_name": "Python 3",
   "language": "python",
   "name": "python3"
  },
  "language_info": {
   "codemirror_mode": {
    "name": "ipython",
    "version": 3
   },
   "file_extension": ".py",
   "mimetype": "text/x-python",
   "name": "python",
   "nbconvert_exporter": "python",
   "pygments_lexer": "ipython3",
   "version": "3.7.3"
  }
 },
 "nbformat": 4,
 "nbformat_minor": 4
}
